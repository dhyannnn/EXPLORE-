{
 "cells": [
  {
   "cell_type": "markdown",
   "id": "a5b1d126",
   "metadata": {},
   "source": [
    "__Dhyan Thakkar__\n",
    "<br>\n",
    "__Feb 18, 2022__"
   ]
  },
  {
   "cell_type": "markdown",
   "id": "4e779114",
   "metadata": {},
   "source": [
    "# <center><font color=46769B>Research Journal 5</font></center>"
   ]
  },
  {
   "cell_type": "markdown",
   "id": "79e75dd5",
   "metadata": {},
   "source": [
    "## <font color=red>1. Experience</font>\n",
    "- Had a student only group meeting on Tuesday (minimal mentor interactions), where we discussed the reading from mainly chapter 7 from the textbook __Galactic Dynamics__ by __Binney and Tremaine__ provided by Professor Tulin to figure out how we can derive the diffusion coefficient, and some of appendix L from the same textbook. \n",
    "- Gained more insight into the math and the theory.\n",
    "\n",
    "### Motivation\n",
    "- the main next step in figuring out how dark matter sub-halos affect tidal streams, is to figure out the diffusion coefficient to see how a tidal stream of some mass moving at some velocity is affect by a dark matter halo of some density. "
   ]
  },
  {
   "cell_type": "markdown",
   "id": "e9d4c85f",
   "metadata": {},
   "source": [
    "## <font color=red>2. What? (What happened?)</font>\n",
    "### <font color=black>Describe what happened during your activities for the week</font>\n",
    "## <font color=red>Notes from Textbook</font>\n",
    "<br>\n",
    "\n",
    "- Chapter 7 discusses a lot of information, what we mainly discussed was the relaxation process in stellar systems. Relaxation time of a system is the time for the system to drop to 0.36 of its initial value. In terms of stellar systems, the textbook gives relaxation time as $$ t_{relax} \\approx  \\frac{0.1N}{ln N}t_{cross}$$ (Will explain the equations in section 3). \n",
    "<br>\n",
    "<br>\n",
    "- After some reading, later in chapter 7, the relaxation time was made more precise by using the diffusion coefficients. I will not go over it because I do not yet understand the mathematical process "
   ]
  },
  {
   "cell_type": "markdown",
   "id": "31a6d6e5",
   "metadata": {},
   "source": [
    "## <font color=red>3. So What? (What does it mean?)</font>\n",
    "### <font color=black>Describe your results</font>\n",
    "<br>\n",
    "Defining the Relaxation Time\n",
    "<br>\n",
    "\n",
    "- So in stellar systems individual stars start off at some original path, but stellar interactions gradually perturb these stars away from their trajectories. The stars diffuse in phase space (change their position and momentum) away from their original orbits. After a lot of encounters these stars completely lose memory of their original path, and find themselves in a fully different unrelated orbit. \n",
    "<br>\n",
    "<br>\n",
    "- The time over which this loss of memory occurs is called the relaxation time $t_{relax}$. Relaxation therefore drives stellar systems towards a small dense core, and large low-density halo configurations.  \n",
    "<br>\n",
    "<br>\n",
    "- As stated previously, the equation for relaxation time is given by, $$ t_{relax} \\approx  \\frac{0.1N}{ln N}t_{cross}$$ where $t_{cross}$ is the crossing time, $N$ is the number of stars in the system. The relaxation time exceeds the crossing time if $N \\geqslant 40 $\n",
    "<br>\n",
    "<br>\n",
    "- Now usually, this can be completely ignored since most galaxies typically have $N \\approx 10^{11}$ stars and $t_{cross} \\approx 100$ __Myr__. However encounters have played a central role in determining the current structure of many astronomical systems, such as globular clusters, open cluster, etc "
   ]
  },
  {
   "cell_type": "markdown",
   "id": "cd0944a1",
   "metadata": {},
   "source": [
    "## <font color=red>4. Now What? (What's next?) </font>\n",
    "### <font colr=black>Plan for the next week</font>\n",
    "<br>\n",
    "- The plan for this coming week is to have a discussion with the mentors on Tuesday, it will be a mostly student led discussion, but I will read the research paper from last week's journal further before then and try and understand most of the derivation on my own, and be prepared with questions on Tuesday for the mentors. After Tuesday the plan is to keep working on understanding the derivation of the diffusion coefficient, and begin taking steps in coming up with my own derivation specific to our objectives."
   ]
  },
  {
   "cell_type": "markdown",
   "id": "3b7a32af",
   "metadata": {},
   "source": [
    "## <font color=red>5. Bibliography</font>\n",
    "<br>\n",
    "Galactic Dynamics by Binny and Termaine\n",
    "<br>\n",
    "- Chapter 7, and Appendix L to try and understand the derivation of the diffusion coefficient "
   ]
  },
  {
   "cell_type": "code",
   "execution_count": null,
   "id": "0144453f",
   "metadata": {},
   "outputs": [],
   "source": []
  }
 ],
 "metadata": {
  "kernelspec": {
   "display_name": "Python 3 (ipykernel)",
   "language": "python",
   "name": "python3"
  },
  "language_info": {
   "codemirror_mode": {
    "name": "ipython",
    "version": 3
   },
   "file_extension": ".py",
   "mimetype": "text/x-python",
   "name": "python",
   "nbconvert_exporter": "python",
   "pygments_lexer": "ipython3",
   "version": "3.9.7"
  }
 },
 "nbformat": 4,
 "nbformat_minor": 5
}
