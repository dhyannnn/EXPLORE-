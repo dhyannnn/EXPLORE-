{
 "cells": [
  {
   "cell_type": "markdown",
   "id": "36738666-39bc-4220-ad44-cbf8e1c9c67f",
   "metadata": {
    "tags": []
   },
   "source": [
    "# Variables"
   ]
  },
  {
   "cell_type": "code",
   "execution_count": 133,
   "id": "e5e3c809-836b-4303-85bb-f167b391dbbc",
   "metadata": {
    "tags": []
   },
   "outputs": [
    {
     "data": {
      "text/plain": [
       "26"
      ]
     },
     "execution_count": 133,
     "metadata": {},
     "output_type": "execute_result"
    }
   ],
   "source": [
    "x = 5;\n",
    "x**2+1"
   ]
  },
  {
   "cell_type": "code",
   "execution_count": 5,
   "id": "42635a1f-a8e0-4a9c-85d6-5b6b1e03c541",
   "metadata": {
    "tags": []
   },
   "outputs": [
    {
     "name": "stdout",
     "output_type": "stream",
     "text": [
      "Type of a:  <class 'bool'>\n",
      "Type of x:  <class 'int'>\n",
      "Type of y:  <class 'float'>\n",
      "Type of r:  <class 'str'>\n"
     ]
    }
   ],
   "source": [
    "#TYPES OF VARIABLES\n",
    "#Boolean Variables\n",
    "#1. Boolean Point number (bool): a binary value, True,False \n",
    "a = True\n",
    "print('Type of a: ', type(a))\n",
    "#2. Integer (int): a number; 1,2,3,4,23,-34\n",
    "#3. Floating Point Number (float): a decimal number 2.4, 34.2325, -54.234967\n",
    "x = 5 \n",
    "print('Type of x: ',type(x))\n",
    "y = 5.0\n",
    "print('Type of y: ', type(y))\n",
    "#4. String (str): A sequence of characters ; \"hello\", \"I learn python!\", \"I am a string\"\n",
    "r = 'hello world' \n",
    "print('Type of r: ', type(r))"
   ]
  },
  {
   "cell_type": "code",
   "execution_count": 24,
   "id": "cac2ea81-9192-45d8-ba1d-4424cb825fca",
   "metadata": {
    "tags": []
   },
   "outputs": [
    {
     "name": "stdout",
     "output_type": "stream",
     "text": [
      "helloworld\n"
     ]
    }
   ],
   "source": [
    "#String Variables \n",
    "#Different variable types have different kinds of operations, for example: \n",
    "#1. Integers and floats can be added 1+2, or multiplied 1*2 in the usual form \n",
    "#2. Strings can be concatenated using the plus operator \"hello\" + \"world\", you can also do string comparison using \"hello\" == \"hello\"\n",
    "string1 = \"hello\"\n",
    "string2 = \"world\"\n",
    "string3 = string1 + string2\n",
    "print(string3)"
   ]
  },
  {
   "cell_type": "code",
   "execution_count": 21,
   "id": "a5f35a2f-ad09-46e0-a0d1-e44abe5174ed",
   "metadata": {},
   "outputs": [
    {
     "name": "stdout",
     "output_type": "stream",
     "text": [
      "h\n",
      "lowor\n",
      "hlool\n"
     ]
    }
   ],
   "source": [
    "#Strings are just sequences of characters, and you can extract a specific element, or a slice, by indexing and slicing. For instance, if we want to extract only the h element from string1\n",
    "print(string1[0:1])\n",
    "#Notice that to get the first element we use the index [0]\n",
    "#If we want to extract the slice lowor from string3\n",
    "print(string3[3:8:1])\n",
    "print(string3[::2])"
   ]
  },
  {
   "cell_type": "code",
   "execution_count": 34,
   "id": "5336e591-762d-41ef-8fb1-f030f62a7d36",
   "metadata": {},
   "outputs": [
    {
     "name": "stdout",
     "output_type": "stream",
     "text": [
      "5.0\n",
      "9\n",
      "1\n",
      "<class 'str'>\n",
      "4\n",
      "4\n"
     ]
    }
   ],
   "source": [
    "#A variable can be turned into a variable of a different type. For instance, a float can be turned into an integer using python's default function int().\n",
    "x = 5 #this is an integer\n",
    "print(float(x))\n",
    "print(int(9.1))\n",
    "#An integer can be turned into a string using the function str().\n",
    "print(str(1))\n",
    "print(type(str(1)))\n",
    "#In a similar way, you can for the integer value of the division of 2 numbers in 2 ways, for instance using the usual division and using the int() function on the final result. you can also use the command a//b\n",
    "print(int(9/2))\n",
    "print(9//2)"
   ]
  },
  {
   "cell_type": "code",
   "execution_count": 36,
   "id": "20274cb2-681e-4a7f-a82d-f61c509c754f",
   "metadata": {},
   "outputs": [
    {
     "name": "stdout",
     "output_type": "stream",
     "text": [
      "x = 5 is of type:  <class 'int'>\n",
      "y = x/3 is of type:  <class 'float'>\n"
     ]
    }
   ],
   "source": [
    "#Operations can also change the type of a variable, for instance, the division of 2 integer numbers give in general float numbers\n",
    "x = 5 \n",
    "print(\"x = 5 is of type: \", type(x))\n",
    "y = x/3\n",
    "print(\"y = x/3 is of type: \", type(y))"
   ]
  },
  {
   "cell_type": "code",
   "execution_count": 39,
   "id": "a28470c1-7a68-4517-abba-b1fbd91f7d85",
   "metadata": {},
   "outputs": [
    {
     "name": "stdout",
     "output_type": "stream",
     "text": [
      "6\n",
      "48\n",
      "90\n"
     ]
    }
   ],
   "source": [
    "#There are a set of mathematical operations that are applicable to the different variable types, \"+,-,/,*,//,%,<,>,<=,>=,==,!=\n",
    "print(3+3)\n",
    "print(3+3*15)\n",
    "print((3+3)*15)"
   ]
  },
  {
   "cell_type": "code",
   "execution_count": 40,
   "id": "7517e335-fe45-42b3-afd6-d693daccf561",
   "metadata": {},
   "outputs": [
    {
     "data": {
      "text/plain": [
       "5"
      ]
     },
     "execution_count": 40,
     "metadata": {},
     "output_type": "execute_result"
    }
   ],
   "source": [
    "#To finalize this section, let's point out the fact that all of the variables we have defined above are global variables, that means that we can use them in different cells in the notebook without having to define them again. \n",
    "#Example: \n",
    "x"
   ]
  },
  {
   "cell_type": "code",
   "execution_count": 41,
   "id": "498e138f-9c12-4043-9e5d-df176802307a",
   "metadata": {},
   "outputs": [],
   "source": [
    "#Functions"
   ]
  },
  {
   "cell_type": "code",
   "execution_count": 46,
   "id": "d91c1ed9-7bb0-4adc-b2c7-1efcc873ad58",
   "metadata": {},
   "outputs": [
    {
     "data": {
      "text/plain": [
       "25"
      ]
     },
     "execution_count": 46,
     "metadata": {},
     "output_type": "execute_result"
    }
   ],
   "source": [
    "#Going back to our mathematical expression\n",
    "x**2+1\n",
    "#We now want to evaluate it at a specific point, for instance x = 3\n",
    "x = 3\n",
    "x**2+1\n",
    "#We could do this for another x value, let's say x = 7 \n",
    "x = 7 \n",
    "x**2+1\n",
    "#or x = 50\n",
    "x=50\n",
    "x**2+1\n",
    "#We can save time by abstracting x**2+1 into a function which can be resued any time we desire to. The syntax for defining a function is the following:\n",
    "# def function_name(x1): ...\n",
    "#Here:\n",
    "# x1 is a function parameter (independent variable), it is recommended that you use function names that accurately describe the function's purpose. You can have multiple function parameters\n",
    "# def f(x1, x2): ...\n",
    "#The function parameters x can be of any type including functions themselves\n",
    "# A function generally takes an input an returns an output. As an example: Let us imagine, we want to write a function that adds two parameters and squares them afterwards:\n",
    "def sum_and_square(x1,x2):\n",
    "    power = 2\n",
    "    sum_ = x1+x2\n",
    "    sum_sq = sum_**power\n",
    "    return sum_sq\n",
    "x = sum_and_square(2,3)\n",
    "x\n",
    "#Let's take this example function to discuss local variables. As you can see, inside the function we have defined the variable power = 2, that means that inside the function, anywhere you encounter the variable power, the program automatically replaces its value with 2.\n",
    "#However outside the function the variable power is not defined, and if you try to call it you will get an error message. Namely power was written as a local variable. \n",
    "#The job of the return function in our sum_and_square function is to store the result of the operation in the function in the variable x. A function doesn't need to have a return statement as we will see in later tutorials.\n",
    "#Keep in mind that the arguement's types are carried into the function so you get an error message when you try use undefined operations between different type objects. "
   ]
  },
  {
   "cell_type": "code",
   "execution_count": 47,
   "id": "482ac3cf-a706-41dd-bf3f-8d0a75de56e8",
   "metadata": {},
   "outputs": [
    {
     "name": "stdout",
     "output_type": "stream",
     "text": [
      "4\n",
      "5\n"
     ]
    }
   ],
   "source": [
    "#Finally let's comment on a useful feature when defining functions. You can pre-assign a default value for the independent variables.\n",
    "#For instance, let's imagine we want to define a function of 2 parameters a,b, but we want to specify a default value for b = 1, so that when using the function it just assumes that b = 1, but we could change the value of b if desired. \n",
    "def fun(a,b=1):\n",
    "    return a+b\n",
    "print(fun(3)) #this uses the default value for b \n",
    "print(fun(3,b =2)) #we changed the input value of b to 2\n"
   ]
  },
  {
   "cell_type": "code",
   "execution_count": 48,
   "id": "a216c03c-3f58-4de5-a696-e3696cbe38df",
   "metadata": {},
   "outputs": [
    {
     "data": {
      "text/plain": [
       "True"
      ]
     },
     "execution_count": 48,
     "metadata": {},
     "output_type": "execute_result"
    }
   ],
   "source": [
    "#Notice that the order of the arguments matters, no named variables always go first, and named variables go afterwards. For instance, if you want to invert the order, you will get an error message\n",
    "#Defining a function with default key-values fro different parameters is useful when dealing with functions with a big number of arguements since it allows us to input the arguements without a specific order.\n",
    "def func2(a = 1, b = 3, c = 19):\n",
    "    return (a-b)/c\n",
    "func2(b=3,a=13,c=19) == func2(b=3,c=19,a=13)"
   ]
  },
  {
   "cell_type": "code",
   "execution_count": 51,
   "id": "945f2686-10a6-44e6-a45b-f808f74631d2",
   "metadata": {},
   "outputs": [
    {
     "name": "stdout",
     "output_type": "stream",
     "text": [
      "-127136671.66\n",
      "1800.0\n"
     ]
    }
   ],
   "source": [
    "#Exercise 1 \n",
    "#Imagine a freely falling particle whose coordinate position (x,y) is described by the relations y(t) = -9.81t**2+0.23t+100.34 and x(t) = 0.5t, write to functionns that give you the x and y postions of the particle for a given t.\n",
    "def y_pos(t):\n",
    "    y = -9.81*(t**2)+0.23*t+100.34\n",
    "    return y\n",
    "def x_pos(t):\n",
    "    x = 0.5*t\n",
    "    return x\n",
    "print(y_pos(3600))\n",
    "print(x_pos(3600))\n"
   ]
  },
  {
   "cell_type": "code",
   "execution_count": 66,
   "id": "96f6bd6e-b74b-4b2e-bd85-7b3164f152bf",
   "metadata": {},
   "outputs": [
    {
     "name": "stdout",
     "output_type": "stream",
     "text": [
      "[4, 8, 2]\n",
      "[3, 4, 8, 'string', 5, 3, 7]\n",
      "[3, 4, 8, 'string', 5, 3, 7, 10]\n",
      "[3, 4, 8, 'string', 5, 3, 7, 10, 10]\n",
      "[1, 4, 'r', (3, 4), 5.6, 4, 'c', [1, 2, 3]]\n"
     ]
    },
    {
     "data": {
      "text/plain": [
       "8"
      ]
     },
     "execution_count": 66,
     "metadata": {},
     "output_type": "execute_result"
    }
   ],
   "source": [
    "#List and Tuples \n",
    "#List and Tuples are data structures, which as the name explicitly suggests, they are utilized to collect data in one single variable. Let's define a list to make it more clear \n",
    "my_list = [3,4,8,2,5,3,7]\n",
    "#We can access a list element by defining the specific index \n",
    "my_list[2] #This will give you an 8, keep in mind that in python the first element is referenced as the 0th element\n",
    "my_list[5]\n",
    "#You can also access the last and the second to last element by using the index -1, and -2 respectively\n",
    "my_list[-1]\n",
    "#We can slice the list by defining the range of interest in the list\n",
    "slice = my_list[1:4]\n",
    "print(slice)\n",
    "#Lists are mutable objects, meaning we can change one or more elements of the list\n",
    "my_list[3] = \"string\" #We have added a string as the fourth element just to show that elements of a list do not have to be of the same type \n",
    "print(my_list)\n",
    "#We can also append to list by the following\n",
    "my_list.append(10)\n",
    "print(my_list)\n",
    "#or another way of doing it is\n",
    "my_list+= [10]\n",
    "print(my_list)\n",
    "#We can also concatenate two lists\n",
    "my_list2 = [1,4,'r',(3,4)]\n",
    "my_list3 = [5.6,4,'c',[1,2,3]]\n",
    "my_list4 = my_list2 + my_list3\n",
    "print(my_list4)\n",
    "#Determine the length of a list by \n",
    "len(my_list4)"
   ]
  },
  {
   "cell_type": "code",
   "execution_count": 67,
   "id": "9f0dfa0a-7630-45c3-8259-9115639a0c38",
   "metadata": {},
   "outputs": [
    {
     "name": "stdout",
     "output_type": "stream",
     "text": [
      "(3, 4, 8, 2, 5, 3, 7)\n",
      "[3, 4, 8, 2, 5, 3, 7]\n"
     ]
    }
   ],
   "source": [
    "#Tuples\n",
    "#Tuples in general are similar to lists but are defined with round brackets instead of squared ones\n",
    "my_tuple = (3,4,8,2,5,3,7) #This is a tuple\n",
    "my_list = [3,4,8,2,5,3,7] #This is a list\n",
    "#accessing different elements of a tuple can be done in the same way than for lists. However, tuples are not mutable which means that one cannot change or add more elements to the tuple.\n",
    "#Lists and tuples can be change one into another, and as usual, python has already default functions for doing that, for instance to go from a list into a tuple we use the function tuple(my_list) , and viceversa, list(my_tuple)\n",
    "print(tuple(my_list))\n",
    "print(list(my_tuple))"
   ]
  },
  {
   "cell_type": "code",
   "execution_count": 68,
   "id": "fbf2c4d1-50a8-436f-985b-bc4702cc7b20",
   "metadata": {},
   "outputs": [
    {
     "name": "stdout",
     "output_type": "stream",
     "text": [
      "1.4142135623730951\n"
     ]
    }
   ],
   "source": [
    "#Numpy\n",
    "#Sometimes you have to beef up your List experience because the build in functionality is not sufficient for your problems or it is just slow. \n",
    "#Here we introduce the numpy library, which create a whole universe of functions which are fast and efficient. Without further due, let's import numpy to make it usable in our code\n",
    "#import numpy as np\n",
    "#A module import has to happen before the library's code exectution\n",
    "#You may have noticed that the import statement ends with as np, this is called aliasing. This enables us to everytime we call the library to call it as np instead of numpy. \n",
    "#For instance to call numpy functions we will always use np.fun() instead of numpy.fun() which is just more conveneint but doesn't change the nature of the exectution \n",
    "#As an example let's use nump's sqrt function\n",
    "import numpy as np\n",
    "x = 2\n",
    "y = np.sqrt(x)\n",
    "print(y)\n",
    "#Addtional numpy functions include:\n",
    "#1. exponential function: np.exp(x)\n",
    "#2. logarithmic function: np.log(x)\n",
    "#3. cosine function: np.cos(x)\n",
    "#constants like pi and the Euler number are also accessible by using the syntax np.pi and np.e respectively."
   ]
  },
  {
   "cell_type": "code",
   "execution_count": 74,
   "id": "6c986d0f-3672-45cd-abbc-45f540f11cda",
   "metadata": {},
   "outputs": [
    {
     "name": "stdout",
     "output_type": "stream",
     "text": [
      "5.0\n",
      "0.9272952180016122\n"
     ]
    }
   ],
   "source": [
    "#Exercise: As an exercise and using numpy functions, write a function which takes as arguments the coordinates x and y and returns the polar coordinates r and phi.\n",
    "import numpy as np\n",
    "def func_r(x,y):\n",
    "    a = (x**2)+ (y**2)\n",
    "    r = np.sqrt(a)\n",
    "    return r\n",
    "print(func_r(3,4))\n",
    "def func_theta(x,y):\n",
    "    b = y/x\n",
    "    theta = np.arctan(b)\n",
    "    return theta\n",
    "print(func_theta(3,4))"
   ]
  },
  {
   "cell_type": "code",
   "execution_count": 89,
   "id": "2648d06a-1873-4962-ae11-39d6096af9f8",
   "metadata": {},
   "outputs": [
    {
     "name": "stdout",
     "output_type": "stream",
     "text": [
      "[ 2  3  4 10]\n"
     ]
    },
    {
     "data": {
      "text/plain": [
       "19"
      ]
     },
     "execution_count": 89,
     "metadata": {},
     "output_type": "execute_result"
    }
   ],
   "source": [
    "#Numpy Arrays\n",
    "#Within the many useful tools in numpy, we have numpy-arrays, which replaces python lists and works hand in hand with other libraries like matplotlib (for plotting) and scipy (for scientific calculations like solving differential equations)\n",
    "#Numpy arrays are fast for evaluation as compared to lists \n",
    "#To convert a list into a numpy array we use the following syntax:\n",
    "a_numpy_array = np.array([2,3,4])\n",
    "a_numpy_array = np.append(a_numpy_array , 10)\n",
    "print(a_numpy_array)\n",
    "np.sum(a_numpy_array)\n",
    "#We converted a list into a numpy array using the np.array function, and then we added a 10 to that array by using the np.append function, this is the function that must be used to append a numoy array. We then found the sum of the array using the np.sum function. \n"
   ]
  },
  {
   "cell_type": "code",
   "execution_count": 112,
   "id": "cd18349b-99b0-4a60-85aa-f31367b577d4",
   "metadata": {},
   "outputs": [
    {
     "name": "stdout",
     "output_type": "stream",
     "text": [
      "[0.1 0.2 0.3 0.4 0.5 0.6 0.7 0.8 0.9 1.  1.1 1.2 1.3 1.4 1.5 1.6 1.7 1.8\n",
      " 1.9 2.  2.1 2.2 2.3 2.4 2.5 2.6 2.7 2.8 2.9 3.  3.1 3.2 3.3 3.4 3.5 3.6\n",
      " 3.7 3.8 3.9 4.  4.1 4.2 4.3 4.4 4.5 4.6 4.7 4.8 4.9 5.  5.1 5.2 5.3 5.4\n",
      " 5.5 5.6 5.7 5.8 5.9 6.  6.1 6.2 6.3 6.4 6.5 6.6 6.7 6.8 6.9 7.  7.1 7.2\n",
      " 7.3 7.4 7.5 7.6 7.7 7.8 7.9 8.  8.1 8.2 8.3 8.4 8.5 8.6 8.7 8.8 8.9 9.\n",
      " 9.1 9.2 9.3 9.4 9.5 9.6 9.7 9.8 9.9]\n"
     ]
    }
   ],
   "source": [
    "#Next, lets create a new numpy array named t that has 101 entries ranging from 0 t0 10 equally spaced\n",
    "#We have two options to accomplish this task, \n",
    "#1. Use np.linspace to create a numpy array from start to stop with steps, an example of this is: t = np.linspace(0,10,101)\n",
    "#2. Use np.arange to create a numpy array with a fixed step size. An example of this is: t = np.arange(0,10.1,0.1)\n",
    "import numpy as np\n",
    "t = np.arange(0.1,10,0.1)\n",
    "print(t)"
   ]
  },
  {
   "cell_type": "code",
   "execution_count": 132,
   "id": "5b057270-6cbe-4627-8c2f-ceaa6f022f5e",
   "metadata": {},
   "outputs": [
    {
     "name": "stdout",
     "output_type": "stream",
     "text": [
      "[0.05 0.1  0.15 0.2  0.25 0.3  0.35 0.4  0.45 0.5  0.55 0.6  0.65 0.7\n",
      " 0.75 0.8  0.85 0.9  0.95 1.   1.05 1.1  1.15 1.2  1.25 1.3  1.35 1.4\n",
      " 1.45 1.5  1.55 1.6  1.65 1.7  1.75 1.8  1.85 1.9  1.95 2.   2.05 2.1\n",
      " 2.15 2.2  2.25 2.3  2.35 2.4  2.45 2.5  2.55 2.6  2.65 2.7  2.75 2.8\n",
      " 2.85 2.9  2.95 3.   3.05 3.1  3.15 3.2  3.25 3.3  3.35 3.4  3.45 3.5\n",
      " 3.55 3.6  3.65 3.7  3.75 3.8  3.85 3.9  3.95 4.   4.05 4.1  4.15 4.2\n",
      " 4.25 4.3  4.35 4.4  4.45 4.5  4.55 4.6  4.65 4.7  4.75 4.8  4.85 4.9\n",
      " 4.95]\n",
      "[ 1.002649e+02  9.999360e+01  9.952610e+01  9.886240e+01  9.800250e+01\n",
      "  9.694640e+01  9.569410e+01  9.424560e+01  9.260090e+01  9.076000e+01\n",
      "  8.872290e+01  8.648960e+01  8.406010e+01  8.143440e+01  7.861250e+01\n",
      "  7.559440e+01  7.238010e+01  6.896960e+01  6.536290e+01  6.156000e+01\n",
      "  5.756090e+01  5.336560e+01  4.897410e+01  4.438640e+01  3.960250e+01\n",
      "  3.462240e+01  2.944610e+01  2.407360e+01  1.850490e+01  1.274000e+01\n",
      "  6.778900e+00  6.216000e-01 -5.731900e+00 -1.228160e+01 -1.902750e+01\n",
      " -2.596960e+01 -3.310790e+01 -4.044240e+01 -4.797310e+01 -5.570000e+01\n",
      " -6.362310e+01 -7.174240e+01 -8.005790e+01 -8.856960e+01 -9.727750e+01\n",
      " -1.061816e+02 -1.152819e+02 -1.245784e+02 -1.340711e+02 -1.437600e+02\n",
      " -1.536451e+02 -1.637264e+02 -1.740039e+02 -1.844776e+02 -1.951475e+02\n",
      " -2.060136e+02 -2.170759e+02 -2.283344e+02 -2.397891e+02 -2.514400e+02\n",
      " -2.632871e+02 -2.753304e+02 -2.875699e+02 -3.000056e+02 -3.126375e+02\n",
      " -3.254656e+02 -3.384899e+02 -3.517104e+02 -3.651271e+02 -3.787400e+02\n",
      " -3.925491e+02 -4.065544e+02 -4.207559e+02 -4.351536e+02 -4.497475e+02\n",
      " -4.645376e+02 -4.795239e+02 -4.947064e+02 -5.100851e+02 -5.256600e+02\n",
      " -5.414311e+02 -5.573984e+02 -5.735619e+02 -5.899216e+02 -6.064775e+02\n",
      " -6.232296e+02 -6.401779e+02 -6.573224e+02 -6.746631e+02 -6.922000e+02\n",
      " -7.099331e+02 -7.278624e+02 -7.459879e+02 -7.643096e+02 -7.828275e+02\n",
      " -8.015416e+02 -8.204519e+02 -8.395584e+02 -8.588611e+02]\n"
     ]
    }
   ],
   "source": [
    "#Recall from the functions exercise, we created functions y(t) and x(t) for a free falling particle. Let's say now we want to compute the values for the coordinates positions at every single element of t above.\n",
    "#We can simply insert the array into the function. The function will be applied element wise into the array. \n",
    "x_t = x_pos(t)\n",
    "print(x_t)\n",
    "y_t = y_pos(t)\n",
    "print(y_t)"
   ]
  },
  {
   "cell_type": "code",
   "execution_count": 114,
   "id": "3e8c1f1a-d7ae-4b32-a6f0-bafa79b537c2",
   "metadata": {},
   "outputs": [
    {
     "name": "stdout",
     "output_type": "stream",
     "text": [
      "[0.         0.22222222 0.44444444 0.66666667 0.88888889 1.11111111\n",
      " 1.33333333 1.55555556 1.77777778 2.        ]\n",
      "[0.         0.11111111 0.22222222 0.33333333 0.44444444 0.55555556\n",
      " 0.66666667 0.77777778 0.88888889 1.        ]\n",
      "[0.         0.33333333 0.66666667 1.         1.33333333 1.66666667\n",
      " 2.         2.33333333 2.66666667 3.        ]\n",
      "[0.0, 0.1111111111111111, 0.2222222222222222, 0.3333333333333333, 0.4444444444444444, 0.5555555555555556, 0.6666666666666666, 0.7777777777777777, 0.8888888888888888, 1.0]\n",
      "[0.0, 0.2222222222222222, 0.4444444444444444, 0.6666666666666666, 0.8888888888888888, 1.1111111111111112, 1.3333333333333333, 1.5555555555555554, 1.7777777777777777, 2.0]\n",
      "[0.0, 0.1111111111111111, 0.2222222222222222, 0.3333333333333333, 0.4444444444444444, 0.5555555555555556, 0.6666666666666666, 0.7777777777777777, 0.8888888888888888, 1.0, 0.0, 0.2222222222222222, 0.4444444444444444, 0.6666666666666666, 0.8888888888888888, 1.1111111111111112, 1.3333333333333333, 1.5555555555555554, 1.7777777777777777, 2.0]\n"
     ]
    }
   ],
   "source": [
    "#Numpy also allows you to easily do element wise operations if the arrays are of equal length. This feature is called broadcasting\n",
    "y = np.linspace(0, 1, 10)\n",
    "x = np.linspace(0, 2, 10)\n",
    "print(x)\n",
    "print(y)\n",
    "print(x+y)\n",
    "#Let's compare this operation with list \n",
    "y_list =list(y)\n",
    "x_list = list(x)\n",
    "print(y_list)\n",
    "print(x_list)\n",
    "print(y_list+x_list)\n",
    "#As you can see python lists do not add element wise they just concatenate. So you need to be careful you can't just replace python lists with numpy arrays.\n"
   ]
  },
  {
   "cell_type": "code",
   "execution_count": 116,
   "id": "dc8a63a2-9342-4aac-bcb6-902083c831ba",
   "metadata": {},
   "outputs": [
    {
     "name": "stdout",
     "output_type": "stream",
     "text": [
      "[100.26491247  99.99365     99.52621304  98.8626023   98.00281887\n",
      "  96.94686417  95.69474006  94.24644884  92.6019934   90.76137725\n",
      "  88.72460473  86.49168115  84.06261305  81.4374085   78.61607759\n",
      "  75.598633    72.38509084  68.9754719   65.3698034   61.56812162\n",
      "  57.57047602  53.37693569  48.98760017  44.40261822  39.62222238\n",
      "  34.64679757  29.47703013  24.11427413  18.56162234  12.82800062\n",
      "   6.95384679   1.71650417   5.96466073  12.39869745  19.10780616\n",
      "  26.03190589  33.15954678  40.48700678  48.01271523  55.73589508\n",
      "  63.65611796  71.77312838  80.08676453  88.59691893  97.30351744\n",
      " 106.20650723 115.30584967 124.60151583 134.09348364 143.78173598\n",
      " 153.66625932 163.7470429  174.02407798 184.49735744 195.16687541\n",
      " 206.03262699 217.09460809 228.35281523 239.80724547 251.45789628\n",
      " 263.30476548 275.34785121 287.58715181 300.02266586 312.65439211\n",
      " 325.48232945 338.5064769  351.72683359 365.14339876 378.7561717\n",
      " 392.5651518  406.57033851 420.77173133 435.16932979 449.7631335\n",
      " 464.55314208 479.53935518 494.72177252 510.10039379 525.67521874\n",
      " 541.44624714 557.41347878 573.57691344 589.93655095 606.49239114\n",
      " 623.24443384 640.19267892 657.33712625 674.67777568 692.21462712\n",
      " 709.94768045 727.87693557 746.00239239 764.32405081 782.84191077\n",
      " 801.55597218 820.46623496 839.57269906 858.87536441]\n",
      "[ 1.57029765  1.56979626  1.56928919  1.56877332  1.56824538  1.56770184\n",
      "  1.56713886  1.56655212  1.5659368   1.56528735  1.56459733  1.56385919\n",
      "  1.56306392  1.56220066  1.56125615  1.56021393  1.55905331  1.55774784\n",
      "  1.55626311  1.55455344  1.5525568   1.55018672  1.54731884  1.5437676\n",
      "  1.53924314  1.53326601  1.52498193  1.51270676  1.49259848  1.4535965\n",
      "  1.34600986  0.37055344 -1.29051156 -1.43325187 -1.4790822  -1.50159519\n",
      " -1.51497647 -1.52385045 -1.53017091 -1.5349051  -1.53858647 -1.54153329\n",
      " -1.54394722 -1.54596221 -1.54767074 -1.54913871 -1.55041434 -1.55153373\n",
      " -1.55252447 -1.55340798 -1.55420116 -1.55491751 -1.55556796 -1.55616145\n",
      " -1.55670535 -1.55720583 -1.55766803 -1.55809634 -1.55849447 -1.55886562\n",
      " -1.55921253 -1.5595376  -1.55984291 -1.56013026 -1.56040128 -1.56065735\n",
      " -1.56089975 -1.56112958 -1.56134784 -1.56155542 -1.56175312 -1.56194165\n",
      " -1.56212168 -1.56229379 -1.56245851 -1.56261633 -1.5627677  -1.56291303\n",
      " -1.56305268 -1.56318699 -1.56331629 -1.56344086 -1.56356097 -1.56367686\n",
      " -1.56378876 -1.56389689 -1.56400145 -1.5641026  -1.56420054 -1.56429541\n",
      " -1.56438736 -1.56447654 -1.56456306 -1.56464706 -1.56472865 -1.56480794\n",
      " -1.56488502 -1.56495999 -1.56503294]\n"
     ]
    }
   ],
   "source": [
    "#We can convert x_t and y_t to polar coordinates, using previously defined functions. \n",
    "x_p = func_r(x_t,y_t)\n",
    "y_p = func_theta(x_t,y_t)\n",
    "print(x_p)\n",
    "print(y_p)"
   ]
  },
  {
   "cell_type": "code",
   "execution_count": 120,
   "id": "2888b789-b8a9-44b2-b5b6-ba00b9b7742a",
   "metadata": {},
   "outputs": [
    {
     "data": {
      "text/plain": [
       "[<matplotlib.lines.Line2D at 0x2d4730d70a0>]"
      ]
     },
     "execution_count": 120,
     "metadata": {},
     "output_type": "execute_result"
    },
    {
     "data": {
      "image/png": "[encoded data removed]",
      "text/plain": [
       "<Figure size 432x288 with 1 Axes>"
      ]
     },
     "metadata": {
      "needs_background": "light"
     },
     "output_type": "display_data"
    }
   ],
   "source": [
    "#Plotting\n",
    "#To end this first tutorial, we will learn how to plot functions using matplotlib\n",
    "#first we need to import the library using import matplotlib.pyplot as plt\n",
    "#just by looking at the import statement, you already know that every function of this library will be executed with plt.function()\n",
    "#This is particularly useful if you have a large codebase and you don't want to mix up functions when coding \n",
    "#Back to plotting. You can simply plot two numpy arrays or Lists against each other (they must have the same dimensionality, or in other words: length), by using plt.plot(x_axis_array, y_axis_array)\n",
    "import matplotlib.pyplot as plt\n",
    "x = [1, 2, 3, 4, 5]\n",
    "y = [1, 4, 9, 16, 25]\n",
    "#You can see that the graph is kind of edgy, if you want the graph to smooth out, you just have to add more points.\n",
    "plt.plot(x,y)"
   ]
  },
  {
   "cell_type": "code",
   "execution_count": 121,
   "id": "4b5156eb-408d-4625-b0c9-8f23334e8e4e",
   "metadata": {},
   "outputs": [
    {
     "data": {
      "text/plain": [
       "<matplotlib.collections.PathCollection at 0x2d47313d460>"
      ]
     },
     "execution_count": 121,
     "metadata": {},
     "output_type": "execute_result"
    },
    {
     "data": {
      "image/png": "[encoded data removed]",
      "text/plain": [
       "<Figure size 432x288 with 1 Axes>"
      ]
     },
     "metadata": {
      "needs_background": "light"
     },
     "output_type": "display_data"
    }
   ],
   "source": [
    "#if you want to just plot the points, use the function plt.scatter(x,y)\n",
    "plt.scatter(x,y)"
   ]
  },
  {
   "cell_type": "code",
   "execution_count": 122,
   "id": "170feb55-7b34-4b8c-b64e-63de0f5bc922",
   "metadata": {},
   "outputs": [
    {
     "data": {
      "text/plain": [
       "<matplotlib.collections.PathCollection at 0x2d4731a4ee0>"
      ]
     },
     "execution_count": 122,
     "metadata": {},
     "output_type": "execute_result"
    },
    {
     "data": {
      "image/png": "[encoded data removed]",
      "text/plain": [
       "<Figure size 432x288 with 1 Axes>"
      ]
     },
     "metadata": {
      "needs_background": "light"
     },
     "output_type": "display_data"
    }
   ],
   "source": [
    "#You can include the points and the plot on the same graph by the following \n",
    "plt.plot(x,y)\n",
    "plt.scatter(x,y)"
   ]
  },
  {
   "cell_type": "code",
   "execution_count": 123,
   "id": "0e7d7ce4-3a3d-41a0-9147-5a1562c752c2",
   "metadata": {},
   "outputs": [
    {
     "data": {
      "text/plain": [
       "<matplotlib.legend.Legend at 0x2d4731deca0>"
      ]
     },
     "execution_count": 123,
     "metadata": {},
     "output_type": "execute_result"
    },
    {
     "data": {
      "image/png": "[encoded data removed]",
      "text/plain": [
       "<Figure size 432x288 with 1 Axes>"
      ]
     },
     "metadata": {
      "needs_background": "light"
     },
     "output_type": "display_data"
    }
   ],
   "source": [
    "#et us finish the lecture with the following example. We want to plot the function  f(x)=1/x  against the values of  x  from  10−7  to  100\n",
    "#First, we want to create a numpy array, which contains the values of  x  from  10−7  to  100 . For this, I use np.logspace which is a function, which creates a numpy array with logarithmic steps.\n",
    "import numpy as np \n",
    "x = np.logspace(-7, 3, 1000) # going from 10^-7 to 10^3\n",
    "#Then, we create a function which returns the value of  f(x)=1/x .\n",
    "def f(x):\n",
    "    return 1/x\n",
    "#The last step of the calculation is to calculate the values of  f(x)  for every value of  x .\n",
    "f_x = f(x)\n",
    "#Finally, we plot the values of  f(x)  against the values of  x .\n",
    "import matplotlib.pyplot as plt\n",
    "\n",
    "plt.plot(x, f_x, label=r'$f(x)=1/x$') # LaTeX support for graph labels :)\n",
    "plt.xlabel(\"x\")\n",
    "plt.ylabel(\"f(x)\")\n",
    "plt.legend()"
   ]
  },
  {
   "cell_type": "code",
   "execution_count": 124,
   "id": "a15d16fc-df30-471f-a0b4-78f95c4d0273",
   "metadata": {},
   "outputs": [
    {
     "data": {
      "text/plain": [
       "<matplotlib.legend.Legend at 0x2d47334bd60>"
      ]
     },
     "execution_count": 124,
     "metadata": {},
     "output_type": "execute_result"
    },
    {
     "data": {
      "image/png": "[encoded data removed]",
      "text/plain": [
       "<Figure size 432x288 with 1 Axes>"
      ]
     },
     "metadata": {
      "needs_background": "light"
     },
     "output_type": "display_data"
    }
   ],
   "source": [
    "#As can be seen, the graph looks horrible. This is due to the fact that we use a linear scale for plotting. A better scale would be a logarithmic scale. Logarithmic plots can be created using the plt.loglog() function\n",
    "plt.loglog(x, f_x, label=r'$f(x)=x^{-1}$', color=\"green\") # LaTeX support for graph labels :)\n",
    "plt.xlabel(\"x\")\n",
    "plt.ylabel(\"f(x)\")\n",
    "plt.legend()"
   ]
  },
  {
   "cell_type": "code",
   "execution_count": 129,
   "id": "b09a2d68-012d-4086-87cb-3affa10b18d8",
   "metadata": {},
   "outputs": [
    {
     "data": {
      "text/plain": [
       "<matplotlib.legend.Legend at 0x2d4745e7d00>"
      ]
     },
     "execution_count": 129,
     "metadata": {},
     "output_type": "execute_result"
    },
    {
     "data": {
      "image/png": "[encoded data removed]",
      "text/plain": [
       "<Figure size 432x288 with 1 Axes>"
      ]
     },
     "metadata": {
      "needs_background": "light"
     },
     "output_type": "display_data"
    }
   ],
   "source": [
    "#one could have alternative use the plt.xscale() function to change the x-axis scales, and similar for the y-axis\n",
    "plt.plot(x, f_x, label=r'$f(x)=x^{-1}$', color=\"green\") # LaTeX support for graph labels :)\n",
    "plt.xlabel(\"x\")\n",
    "plt.ylabel(\"f(x)\")\n",
    "plt.xscale('log')\n",
    "#plt.yscale('log')\n",
    "plt.legend()"
   ]
  },
  {
   "cell_type": "code",
   "execution_count": 130,
   "id": "f288c0ea-c2e8-4606-aa96-2ce2db20a307",
   "metadata": {},
   "outputs": [
    {
     "data": {
      "text/plain": [
       "<matplotlib.legend.Legend at 0x2d47468edc0>"
      ]
     },
     "execution_count": 130,
     "metadata": {},
     "output_type": "execute_result"
    },
    {
     "data": {
      "image/png": "[encoded data removed]",
      "text/plain": [
       "<Figure size 432x288 with 1 Axes>"
      ]
     },
     "metadata": {
      "needs_background": "light"
     },
     "output_type": "display_data"
    }
   ],
   "source": [
    "plt.plot(x, f_x, label=r'$f(x)=x^{-1}$', color=\"green\") # LaTeX support for graph labels :)\n",
    "plt.xlabel(\"x\")\n",
    "plt.ylabel(\"f(x)\")\n",
    "#plt.xscale('log')\n",
    "plt.yscale('log')\n",
    "plt.legend()"
   ]
  },
  {
   "cell_type": "code",
   "execution_count": null,
   "id": "0e94810d-f616-442c-8a2f-4231aeed5392",
   "metadata": {},
   "outputs": [],
   "source": []
  }
 ],
 "metadata": {
  "kernelspec": {
   "display_name": "Python 3 (ipykernel)",
   "language": "python",
   "name": "python3"
  },
  "language_info": {
   "codemirror_mode": {
    "name": "ipython",
    "version": 3
   },
   "file_extension": ".py",
   "mimetype": "text/x-python",
   "name": "python",
   "nbconvert_exporter": "python",
   "pygments_lexer": "ipython3",
   "version": "3.9.7"
  },
  "toc-autonumbering": true,
  "toc-showmarkdowntxt": true
 },
 "nbformat": 4,
 "nbformat_minor": 5
}
