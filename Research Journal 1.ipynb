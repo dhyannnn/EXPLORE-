{
 "cells": [
  {
   "cell_type": "markdown",
   "id": "2db3532c",
   "metadata": {},
   "source": [
    "__Dhyan Thakkar__\n",
    "<br>\n",
    "Jan 21, 2021\n"
   ]
  },
  {
   "cell_type": "markdown",
   "id": "c4ae4dbf",
   "metadata": {},
   "source": [
    "# <center><font color=#46769B>Research Journal 1</font></center>"
   ]
  },
  {
   "cell_type": "markdown",
   "id": "f804d67c",
   "metadata": {},
   "source": [
    "## <font color=red>1. Experience</font>\n",
    "- Attended synchronous lec on the 18th  \n",
    "- Rewatched Prof Tulin Lec from Explore 1\n",
    "- Started reading research paper (Constraints on MACHO Dark Matter from Compact Stellar Systems in Ultra - Faint Dwarf Galaxies)\n",
    "\n",
    "### Motivation\n",
    "- In order to have a thorough understanding of the project, and be able to code efficiently, I needed to attend the synchronous lecture, rewatch Professor Tulin's lecture from the first explore. I also started reading the research paper in order to present the findings in the research next week. I started taking notes on the paper"
   ]
  },
  {
   "cell_type": "markdown",
   "id": "5817eae1",
   "metadata": {},
   "source": [
    "## <font color=red>2. What? (What happened?)</font>\n",
    "### <font color=black>Describe what happened during your activities for the week</font>\n",
    "\n",
    "__Synchrnous Lec on 18th__\n",
    "<br>\n",
    "- During this lecture, Professor Jürgen, and Professor Rastgoo went over the following topics\n",
    "    - __Neutron Stars & Pulsar masses__ \n",
    "    <br>\n",
    "    Professor Jürgen started off with a rotating neutron star (pulsar) in the middle of the Crab Nebula, he showed us a pulsar     plot, and relavent equations to the pulsar plot such as the characteristic age of a pulsar which is $\\vec{\\tau} = \\frac{P}     {2\\dot{P}}$ and the magnetic field $ \\vec{B} = 2x 10^{19}(P(\\dot{P}))^{1/2} $ in Gauss\n",
    "<br>\n",
    "    - __Measuring Radii of Compact Stars__ \n",
    "    <br>\n",
    "    Here we learned about an x-ray satellite docked on the ISS that measures hotspots modulated by the curvature of spacetime       on the surface of rotating neutron stars. Basically, when the satellite observes the modulation of hotspots as a function of the phase of rotation we can measure the curvature of spacetime (compactness) and the equation for that is $ C = \\frac{GM}{R} $ \n",
    "<br>\n",
    "    - __Equation of State__\n",
    "    <br>\n",
    "    This part of the lecture I did not understand very well, and will have to do independent research to gain a stronger, and more thorough understanding of this topic. (Plan for next week)\n",
    "<br>\n",
    "    - __Gravitational Waves from Neutron Star Merger__\n",
    "    <br>\n",
    "    Here we were shown a plot of the GW frequencies of two neutron stars merging together. So before the merger we can actually analytically find the frequency and plot it, but as the merger occurs, in order to find the frequency of the GW we have to take into account the physical properties of the neutron stars (how much one neutron star affects the other, how much does it deform the other star, its deformability) through their equations of state which we do not know. So the most we can do is put a limit to it. In the merger phase, the frequency, oscillations, as well as the amplitudes of the waves increase. We cannot yet detect the gravitational waves of the neutron star post merger, but we have some sorts of estimates of what those might look like, and that was shown in the plot.  \n",
    "<br>\n",
    "\n",
    "__EXPLORE 1 Lec 1__\n",
    "<br>\n",
    "- During this lecture Professor Tulin discussed the evidence for dark matter, what we think dark matter halos look like, discussed several models for dark matter (CDM) and (SIDM), and gave several proofs and issues with CDM model. \n",
    "    - So we know that the universe currently consists of 25 percent dark matter, we basically know that because there's two ways of measuring the mass, there is measuring the luminous mass which is everything that is observed and seen through light. The other way to measure mass is gravitational mass, this is the inferred mass by the way that things move under the infuence of gravity. These two masses do not equal each other, and that tells us that something else that we cannot see is there. \n",
    "    <br>\n",
    "    - The picture of dark matter that we have now that galaxies are in the middle of much more massive dark matter halos. We have a model of dark matter called cold dark matter (__CDM__) which is a fairly simple model that states that dark matter only interacts with gravity, and with nothing else. It is collisionless & dissipationless, the dark matter particles are non relativistic, and that dark matter is non-baryonic. \n",
    "    <br>\n",
    "    - So __CDM__ predicts that shapes of all dark matter halos are unviversal, meaning all dark matter halos have the same shape, but there is an issue with this because turns out this is not true. But we can modify CDM with another model called the self interacting dark matter (__SIDM__), SIDM states that dark matter particles actually do interact with each other not through gravity, and they exchange energy, and when these particles interact it heats up the core of these galaxies making them less dense in the centre, and for dwarf galaxies the SIDM model fits better.\n",
    "<br> \n",
    "\n",
    "__Research Paper__\n",
    "<br>\n",
    "- So far I have read the introduction to this research paper, the author starts off by talking about an interesting possibility that dark matter consists of black holes that were created when the universe began. These early black holes are called __Ma__ssive __C__ompact __H__alo __O__bjects (__MACHOs__), and there is a way to detect MACHOs in our galaxy through gravitational microlensing. In this paper he derives constraints on the size of these MACHOs from compact stellar distributions of ultra-faint dwarf galaxies in particular, from the survival of a star cluster in a galaxy called __Erindus II__ "
   ]
  },
  {
   "cell_type": "markdown",
   "id": "366627dd",
   "metadata": {},
   "source": [
    "## <font color=red>3. So What? (What does it mean?)</font>\n",
    "### <font color=black>Describe your results</font>\n",
    "<br>\n",
    "\n",
    "__Synchronous Lec and Prof Tulin's Lec__\n",
    "<br>\n",
    "- These lectures have provided me with the theoretical knowledge required to go into this project with confidence, and have somewhat of an idea about what I will be doing as part of the dark stars project. \n",
    "<br>\n",
    "\n",
    "__Research Paper__ \n",
    "<br>\n",
    "- This paper has peaked my interest further in the topic of dark matter, as well as its possibilities. It has also giving me knowledge of how scientists conduct their research and make it presentable and concise. This will be very useful when presenting my findings on the paper. "
   ]
  },
  {
   "cell_type": "markdown",
   "id": "d3811b20",
   "metadata": {},
   "source": [
    "## <font color=red>4. Now What? (What's next?) </font>\n",
    "### <font colr=black>Plan for the next week</font>\n",
    "<br>\n",
    "\n",
    "- My plans for the next week are the following\n",
    "    - Finish reading the research paper and make a presentation on it \n",
    "    - Watch the recording of the second synchronous lecture\n",
    "    - Conduct some independent research into equations of state of neutron stars\n",
    "    - Work on some coding, independent practice \n",
    "    "
   ]
  },
  {
   "cell_type": "markdown",
   "id": "7e853f09",
   "metadata": {},
   "source": [
    "## <font color=red>5. Bibliography</font>\n",
    "Constraints on MACHO Dark Matter from Compact Stellar Systems in Ultra - Faint Dwarf Galaxies, Brandt, arXiv : 1605.03665"
   ]
  },
  {
   "cell_type": "markdown",
   "id": "d2b6987a",
   "metadata": {},
   "source": [
    "| Category       | Points      |\n",
    "| ------------- |:------------:|\n",
    "| Formatting    |       2       |\n",
    "| Experience    |          2    |\n",
    "| What?         |        4      |\n",
    "| So what?      |         2     |\n",
    "| Now what?     |         2     |\n",
    "| Bibliography  |         2     |\n",
    "| Style         |          3    |\n",
    "| Total         |         17     |"
   ]
  },
  {
   "cell_type": "code",
   "execution_count": null,
   "id": "6bb30296",
   "metadata": {},
   "outputs": [],
   "source": []
  }
 ],
 "metadata": {
  "kernelspec": {
   "display_name": "Python 3 (ipykernel)",
   "language": "python",
   "name": "python3"
  },
  "language_info": {
   "codemirror_mode": {
    "name": "ipython",
    "version": 3
   },
   "file_extension": ".py",
   "mimetype": "text/x-python",
   "name": "python",
   "nbconvert_exporter": "python",
   "pygments_lexer": "ipython3",
   "version": "3.9.7"
  }
 },
 "nbformat": 4,
 "nbformat_minor": 5
}
