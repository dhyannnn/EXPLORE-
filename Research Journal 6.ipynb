{
 "cells": [
  {
   "cell_type": "markdown",
   "id": "27a183b2",
   "metadata": {},
   "source": [
    "__Dhyan Thakkar__\n",
    "<br>\n",
    "__Feb 25, 2022__"
   ]
  },
  {
   "cell_type": "markdown",
   "id": "7200aba3",
   "metadata": {},
   "source": [
    "# <center><font color=46769B>Research Journal 6</font></center>"
   ]
  },
  {
   "cell_type": "markdown",
   "id": "fc64fc4e",
   "metadata": {},
   "source": [
    "## <font color=red>1. Experience</font>\n",
    "- Had a student only group meeting on Tuesday (minimal mentor interactions), where we discussed the reading, a paper titled __Ultralight Scalars as Cosmological Dark Matter__ by __Lam Hui, Jeremiah P. Ostriker, Scott Tremaine and Edward Witten__ provided by Professor Tulin to figure out how we can derive the diffusion coefficient, then we compared the derivation of the diffusion coefficient from the research paper to the one derived in appendix L of the text book  __Galactic Dynamics__ by __Binney and Tremaine__\n",
    "- Gained more insight into the math and the theory.\n",
    "\n",
    "### Motivation\n",
    "- the main next step in figuring out how dark matter sub-halos affect tidal streams, is to figure out the diffusion coefficient to see how a tidal stream of some mass moving at some velocity is affect by a dark matter halo of some density. "
   ]
  },
  {
   "cell_type": "markdown",
   "id": "ec32b576",
   "metadata": {},
   "source": [
    "## <font color=red>2. What? (What happened?)</font>\n",
    "### <font color=black>Describe what happened during your activities for the week</font>\n",
    "## <font color=red>Notes from Research Paper</font>\n",
    "<br>\n",
    "- The small scale gravitational forces from dark matter sub-halos can thicken, distort, and open gaps in tidal streams shed by globular clusters. They start off by thinking about the thickening of a tidal stream due to interactions with subhalos, and they make a couple simplifying assumptions, that could prove useful in our own calculations of the diffusion coefficient. They assume that all sub-halos have the same mass $m$ and same size $r_m$, and the number density of subhalos is $N$. Using these and assuming some impact parameter $b$ and velocity $v$ of the subhalos the probability $p$ of an interaction between a subhalo and some part of the tidal stream within a time interval $t$ is given by $$ p = \\pi b^2 vt N$$ One more extremely important assumption here is that they first assumed these subhalos to be point masses, which is perfect for our project as we will be considering dark stars to be point masses. This also simplifies a lot of the derivation, because we don't need to consider the shape or size of the dark matter. <br> (The math will be covered in section 3)"
   ]
  },
  {
   "cell_type": "markdown",
   "id": "48946011",
   "metadata": {},
   "source": [
    "## <font color=red>3. So What? (What does it mean?)</font>\n",
    "### <font color=black>Describe your results</font>\n",
    "<br>\n",
    "\n",
    "## <font color=red> Diffusion Coefficient Derivation from Research Paper </font>\n",
    "<br>\n",
    "- After coming up with an equation for the probability of a sub-halo hitting some part of the tidal stream, they derived the impulse (change in momentum) $\\Delta v$ of the tidal stream  of width $w$ due to a mass $m$. First they described the differential force on the tidal stream because of a mass $m$ at a distance $r$ which is $$ F = \\frac{kGmw}{r^3}, $$ where $k$ is of order unity. Integrating with respect to time gives an impulse $ \\Delta v$ of $$ \\Delta v = \\frac{2kGmw}{b^2v} $$ This equation could seem confusing, but doing a unit check tells us that it is accurate. Both sides of the impulse equation are in units of Newton s (SI units). The closest interaction between a subhalo and any part of the tidal stream is given by $p = 1$ or $ b_{min}^2 = ( \\pi Nvt)^{-1} $, substituting this into the equation of impulse we get $$ \\Delta v = 2 \\pi kwGNmt, t \\leqslant t_0 $$. \n",
    "<br>\n",
    "- In my fourth research journal I mentioned that $k$ is just a small constant, but from my discussion with the group on Tuesday, and comparing the textbook's derivation to the derivation in the paper it turns out that the $k$ factor is a really important factor as it takes a lot of the math into account that seemed to be missing. The textbook's final derived diffusion coefficient was the following $$ D[ ( \\Delta v)^2 ] = \\frac{32 \\pi ^2 G^2 m_a ^2 ln \\Lambda}{3}  [\\int_{0}^{v} dv_a (\\frac{3v_a ^2}{v} - \\frac{v_a ^4}{v^3}) + 2 \\int_{v}^{ \\infty } dv_a v_a f_a (v_a) ] $$ The $k$ term includes everything in the square brackets as well as the $ ln \\Lambda$ term, and this can be seen when we compare this diffusion coefficient to the diffusion coefficient derived in the paper $$ D[ ( \\Delta v)^2 ] = \\frac{4 \\pi (kGm)^2 N}{v b^2} \\langle w^2 \\rangle $$\n",
    "<br>\n",
    "- I don't yet completely understand whether the derivations are the same or not, but I will do some more reading and comparing and I should have an idea. Other than that, for our purposes I think we should play around with $k$ and see how that changes diffusion coefficient, and see if we can match our results with some actual data. "
   ]
  },
  {
   "cell_type": "markdown",
   "id": "3e4806ef",
   "metadata": {},
   "source": [
    "## <font color=red>4. Now What? (What's next?) </font>\n",
    "### <font colr=black>Plan for the next week</font>\n",
    "<br>\n",
    "- The plan for this coming week is to have a discussion with the mentors on Tuesday, Since most of the mentors were not available this week for discussions, I don't yet have a clear goal of what the plan is, but we will discuss our findings from comparing the two derivations, and now at least we know that the diffusion coefficient we need for the pruposes of this project is fully defined although I don't yet understand it fully. "
   ]
  },
  {
   "cell_type": "markdown",
   "id": "d0411518",
   "metadata": {},
   "source": [
    "## <font color=red>5. Bibliography</font>\n",
    "<br>\n",
    "Galactic Dynamics by Binny and Termaine\n",
    "<br>\n",
    "- Chapter 7, and Appendix L to try and understand the derivation of the diffusion coefficient \n",
    "<br>\n",
    "https://arxiv.org/pdf/1610.08297.pdf\n",
    "- Research paper by __Lam Hui, Jeremiah P. Ostriker, Scott Tremaine and Edward Witten__"
   ]
  },
  {
   "cell_type": "code",
   "execution_count": null,
   "id": "ac2ac33c",
   "metadata": {},
   "outputs": [],
   "source": []
  }
 ],
 "metadata": {
  "kernelspec": {
   "display_name": "Python 3 (ipykernel)",
   "language": "python",
   "name": "python3"
  },
  "language_info": {
   "codemirror_mode": {
    "name": "ipython",
    "version": 3
   },
   "file_extension": ".py",
   "mimetype": "text/x-python",
   "name": "python",
   "nbconvert_exporter": "python",
   "pygments_lexer": "ipython3",
   "version": "3.9.7"
  }
 },
 "nbformat": 4,
 "nbformat_minor": 5
}
