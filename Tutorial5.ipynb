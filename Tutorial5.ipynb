{
 "cells": [
  {
   "cell_type": "markdown",
   "id": "51b07e9b-dbf8-4176-9670-4ac034dadb01",
   "metadata": {},
   "source": [
    "# Lecture 5\n",
    "\n",
    "\n",
    "By the end of this lecture you will be able to:\n",
    "* Use **dictionaries** in python\n",
    "* Use **pandas** library to  create, modify, save and read **csv** data files\n",
    "* Plot using **pandas** library"
   ]
  },
  {
   "cell_type": "markdown",
   "id": "980e3478-2ff1-4295-9435-6d9ba603fa67",
   "metadata": {},
   "source": [
    "## Dictionaries\n",
    "\n",
    "In **Lecture 2** we learned how to use **lists** and **arrays** as data structures. In this lecture we introduce **dictionaries**.\n",
    "\n",
    "**What are Dictionaries?**\n",
    "\n",
    "A dictionary consists of keys and values assigned to those keys, often referred to as key-value pairs. Since dictionaries have similar characteristics to lists, it is helpful to compare these two\n",
    "\n",
    "<img src=\"https://cf-courses-data.s3.us.cloud-object-storage.appdomain.cloud/IBMDeveloperSkillsNetwork-PY0101EN-SkillsNetwork/labs/Module%202/images/DictsList.png\" width=\"450\" /> \n",
    "\n",
    "Figure taken from [IBM courses](https://cf-courses-data.s3.us.cloud-object-storage.appdomain.cloud/IBMDeveloperSkillsNetwork-PY0101EN-SkillsNetwork/labs/Module%202/images/DictsList.png)\n",
    "\n",
    "Instead of the numerical indices, dictionaries are indexed by *keys*. Keys are typically *strings*, but any non-mutable objects like *tuples* can also serve as a key.\n",
    "Keys play the role of indices used to access values within a dictionary.\n",
    "\n",
    "Similar to lists, dictionaries are mutable objects, which means we can modify them, change values for a given key, add new key-value pairs, etc. \n",
    "\n",
    "The python syntax to create a dictionary is as follows. Here is a simple dictionary with one key-value pair.\n",
    "```py\n",
    "my_dictionary = {'key':value}\n",
    "```\n",
    "Larger dictionaries are created by separating each key-value pair with a comma, e.g.,\n",
    "```py\n",
    "my_dictionary = {'key1':value1, 'key2':value2}\n",
    "```\n",
    "The `type` of a dictionary is `dict`. \n",
    "\n",
    "Let's create our first dictionary in python below. Note we illustrate:\n",
    "- Keys need not all be the same type. Usually *all* keys will be strings, but other types can be keys too.\n",
    "- Values also need not be the same type, similar to lists and tuples."
   ]
  },
  {
   "cell_type": "code",
   "execution_count": 1,
   "id": "bc3e447b-ae85-44df-8b93-d45da58c9cc2",
   "metadata": {},
   "outputs": [
    {
     "data": {
      "text/plain": [
       "dict"
      ]
     },
     "execution_count": 1,
     "metadata": {},
     "output_type": "execute_result"
    }
   ],
   "source": [
    "import numpy as np \n",
    "# Create the dictionary\n",
    "\n",
    "my_dictionary = {\"key1\": 1, \"key2\": \"2\", \"key3\": np.array([3, 3, 8]),\n",
    "                 \"key4\": (4, 4, '4'), ('key5'): 5, (0, 1): 6}\n",
    "\n",
    "\n",
    "\n",
    "type(my_dictionary)"
   ]
  },
  {
   "cell_type": "markdown",
   "id": "5da43e0e-95bc-4c1a-b973-19bb0eaac40f",
   "metadata": {
    "jp-MarkdownHeadingCollapsed": true,
    "tags": []
   },
   "source": [
    "### Accessing the keys of a dictionary:\n",
    "\n",
    "Every dictionary has a built-in method `keys()` to obtain a list of the keys of the dictionary (if you do not know them ahead of time). \n",
    "\n",
    "`my_dictionary.keys() `\n",
    "\n",
    "### Accessing the value by the key:\n",
    "\n",
    "To access the value for given key, we have two options: \n",
    "- Using *square brackets* similar to accessing elements of a list: \n",
    "\n",
    "`my_dictionary['key1'] `\n",
    "- Using the built-in method `get()`:\n",
    "\n",
    "`my_dictionary.get('key1') `\n",
    "\n",
    "Both options will return the output `1`. However, they behave differently if a key is *not* in the dictionary. For example,\n",
    "`my_dictionary['key7']` will produce an error message, while `my_dictionary.get('key7')` will yield `None` (with no error message). You can use a syntax like\n",
    "\n",
    "`if my_dictionary.get('key'): <Do something> `\n",
    "to perform an action only if `'key'` is found in the dictionary.\n",
    "\n",
    "\n",
    "### Adding new key-value pairs to the dictionary\n",
    "\n",
    "For **lists** and **arrays** we would had use the `list.append(value)` and `np.append(array,value)` methods respectively. For **dictionaries** instead, we will use the following syntax:\n",
    "\n",
    "` my_dictionary['key7'] = 'new_value' `\n",
    "\n",
    "### Remove a key-value pair from a dictionary\n",
    "\n",
    "To remove a key-value pair, we use the `pop()` method. For instance, \n",
    "\n",
    "\n",
    "`value = my_dictionary.pop('key7') `\n",
    "\n",
    "will set `value` equal to `'new_value'` *and* it will delete this key-value pair from our dictionary. Now if we ask for the keys of our dictionary \n",
    "\n",
    "\n",
    "`my_dictionary.keys() `\n",
    "\n",
    "we will get as output `dict_keys(['key1', 'key2', 'key3', 'key4', 'key5', (0, 1)])`. If we wanted to delete this key-value pair *without* retaining the value, we can simply do\n",
    "\n",
    "`my_dictionary.pop('key7') `\n",
    "\n",
    "without assigning it to a variable. \n",
    "\n",
    "See [this link](https://www.w3schools.com/python/python_ref_dictionary.asp) for additional methods applied to dictionaries\n"
   ]
  },
  {
   "cell_type": "markdown",
   "id": "cbdbbb8a-7fe0-468a-aac5-dd90e6fcdd2c",
   "metadata": {},
   "source": [
    "## Exercise 1\n",
    "1. Type out all the commands yourself for the previous lines of code.\n",
    "2. Given the following dictionaries, write short line codes to answer the following questions (See [this page](https://holypython.com/beginner-python-exercises/exercise-8-python-dictionaries/) for more exercises with dictionaries): \n",
    "\n",
    "```py\n",
    "dictionary_1 ={\"name\": \"Plato\", \"country\": \"Ancient Greece\", \"born\": -427, \"teacher\": \"Socrates\", \"student\": \"Aristotle\"}\n",
    "dictionary_2 = {\"son's name\": \"Lucas\", \"son's eyes\": \"green\", \"son's height\": 32, \"son's weight\": 25}\n",
    "```\n",
    "* When was Plato born?\n",
    "* Change Plato's birth year from B.C. 427 to B.C. 428.\n",
    "* Add the key \"work\" to `dictionary_1`, with the values \"Apology\", \"Phaedo\", \"Republic\", \"Symposium\" in a list.\n",
    "* Add 2 inches to the son's height in `dictionary_2`.\n",
    "* Using the `.get()` method, print the value of `\"son's eyes\"`.\n",
    "* Merge `dictionary_1` and `dictionary_2` into the dictionary `dictionary_merge`, using the syntax:\n",
    "```py\n",
    "dictionary_merge = merge(**dictionary_1,**dictionary_2)\n",
    "```\n",
    "and print the list of keys in `dictionary_merge`."
   ]
  },
  {
   "cell_type": "code",
   "execution_count": 32,
   "id": "7345b2fc-359e-4418-8fe8-1b38dd3d2d68",
   "metadata": {},
   "outputs": [
    {
     "name": "stdout",
     "output_type": "stream",
     "text": [
      "-427\n",
      "-428\n",
      "{'name': 'Plato', 'country': 'Ancient Greece', 'born': -428, 'teacher': 'Socrates', 'student': 'Aristotle', 'work': ['Apology', 'Phaedo', 'Republic', 'Symposium']}\n",
      "34\n",
      "{'name': 'Plato', 'country': 'Ancient Greece', 'born': -428, 'teacher': 'Socrates', 'student': 'Aristotle', 'work': ['Apology', 'Phaedo', 'Republic', 'Symposium'], \"son's name\": 'Lucas', \"son's eyes\": 'green', \"son's height\": 34, \"son's weight\": 25}\n"
     ]
    }
   ],
   "source": [
    "dictionary_1 = {\"name\": \"Plato\", \"country\": \"Ancient Greece\", \"born\": -427, \"teacher\": \"Socrates\", \"student\": \"Aristotle\"}\n",
    "dictionary_2 = {\"son's name\": \"Lucas\", \"son's eyes\": \"green\", \"son's height\": 32, \"son's weight\": 25}\n",
    "\n",
    "#What year was Plato born? \n",
    "dictionary_1['born'] \n",
    "print(dictionary_1['born'])\n",
    "\n",
    "#Change Plato's birth year from B.C. 427 to B.C. 428\n",
    "dictionary_1['born'] = -428\n",
    "print(dictionary_1['born'])\n",
    "\n",
    "#Add the key \"work\" to dictionary_1, with the values \"Apology\", \"Phaedo\", \"Republic\", \"Symposium\" in a list\n",
    "dictionary_1['work'] = ['Apology', 'Phaedo', 'Republic', 'Symposium']\n",
    "print(dictionary_1)\n",
    "\n",
    "#Add 2 inches to the son's height in dictionary_2\n",
    "dictionary_2[\"son's height\"] = 34\n",
    "print(dictionary_2[\"son's height\"])\n",
    "\n",
    "#Using the .get() method, print the value of \"son's eyes\"\n",
    "dictionary_2.get(\"son's eyes\")\n",
    "\n",
    "#Merge dictionary_1 and dictionary_2 into the dictionary dictionary_merge, using the syntax: \n",
    "# dictionary_merge = merge(**dictionary_1, **dictionary_2), and print the list of keys in dictionary_merge\n",
    "# Python code to merge dict using update() method\n",
    "def merge(dictionary_1, dictionary_2):\n",
    "\treturn(dictionary_1.update(dictionary_2))\n",
    "\t\n",
    "# This return None\n",
    "dictionary_merge = merge(dictionary_1, dictionary_2)\n",
    "print(dictionary_1)"
   ]
  },
  {
   "cell_type": "markdown",
   "id": "35d68b7e-2c36-4416-a960-ca4388c538ba",
   "metadata": {},
   "source": [
    "## The pandas library\n",
    "\n",
    "The **pandas** library is used to efficiently manipulate tabular data such as data stored in spreadsheets or databases, and to do statistics analysis of such data. Pandas supports the integration of several file formats and data sources. Here we focus on `csv` files, but many others are supported as well (e.g., `excel`, `sql`, `json`).\n",
    "\n",
    "You import it as follows:\n",
    "\n",
    "\n",
    "`import pandas as pd `\n",
    "\n",
    "\n",
    "\n",
    "For a detail view of **pandas** library, see [here](https://pandas.pydata.org/pandas-docs/stable/getting_started/index.html#getting-started), and for Library Highlights see [here](https://pandas.pydata.org/about/index.html).\n",
    "\n",
    "In **pandas**, `DataFrame` objects are the key data structures that are used to store your data. You can think of a `DataFrame` as a spreadsheet. \n",
    "\n",
    "Let us start our pandas journey by creating simple `DataFrame`s from the data structure we learned above, namely, **dictionaries**. We create a `DataFrame` from a dictionary of lists. Then, the dictionary keys will be used as column headers and the values in each list will be the columns.\n"
   ]
  },
  {
   "cell_type": "code",
   "execution_count": 39,
   "id": "bab60b9c-032c-40a4-a6af-51b6876e253c",
   "metadata": {},
   "outputs": [
    {
     "data": {
      "text/html": [
       "<div>\n",
       "<style scoped>\n",
       "    .dataframe tbody tr th:only-of-type {\n",
       "        vertical-align: middle;\n",
       "    }\n",
       "\n",
       "    .dataframe tbody tr th {\n",
       "        vertical-align: top;\n",
       "    }\n",
       "\n",
       "    .dataframe thead th {\n",
       "        text-align: right;\n",
       "    }\n",
       "</style>\n",
       "<table border=\"1\" class=\"dataframe\">\n",
       "  <thead>\n",
       "    <tr style=\"text-align: right;\">\n",
       "      <th></th>\n",
       "      <th>Name</th>\n",
       "      <th>Age</th>\n",
       "      <th>Course</th>\n",
       "    </tr>\n",
       "  </thead>\n",
       "  <tbody>\n",
       "    <tr>\n",
       "      <th>0</th>\n",
       "      <td>Braund, Mr. Owen Harris</td>\n",
       "      <td>22</td>\n",
       "      <td>Data Structures</td>\n",
       "    </tr>\n",
       "    <tr>\n",
       "      <th>1</th>\n",
       "      <td>Allen, Mr. William Henry</td>\n",
       "      <td>35</td>\n",
       "      <td>Machine Learning</td>\n",
       "    </tr>\n",
       "    <tr>\n",
       "      <th>2</th>\n",
       "      <td>Bonnell, Ms. Elizabeth</td>\n",
       "      <td>25</td>\n",
       "      <td>OOPS with java</td>\n",
       "    </tr>\n",
       "  </tbody>\n",
       "</table>\n",
       "</div>"
      ],
      "text/plain": [
       "                       Name  Age            Course\n",
       "0   Braund, Mr. Owen Harris   22   Data Structures\n",
       "1  Allen, Mr. William Henry   35  Machine Learning\n",
       "2    Bonnell, Ms. Elizabeth   25    OOPS with java"
      ]
     },
     "execution_count": 39,
     "metadata": {},
     "output_type": "execute_result"
    }
   ],
   "source": [
    "import pandas as pd\n",
    "\n",
    "# Create a dictionary\n",
    "\n",
    "dictionary =  {\n",
    "        \"Name\": [\n",
    "            \"Braund, Mr. Owen Harris\",\n",
    "            \"Allen, Mr. William Henry\",\n",
    "            \"Bonnell, Ms. Elizabeth\",\n",
    "        ],\n",
    "        \"Age\": [\n",
    "            22, \n",
    "            35, \n",
    "            25\n",
    "        ],\n",
    "        \"Course\": [\n",
    "            \"Data Structures\", \n",
    "            \"Machine Learning\", \n",
    "            \"OOPS with java\"\n",
    "        ]\n",
    "    }\n",
    "\n",
    "# Now create a DataFrame from a dictionary\n",
    "\n",
    "df = pd.DataFrame(dictionary)\n",
    "\n",
    "# Print out the DataFrame\n",
    "df"
   ]
  },
  {
   "cell_type": "markdown",
   "id": "e1012647-d964-4020-9700-c5bd66d1446b",
   "metadata": {},
   "source": [
    "## Exercise 2\n",
    "\n",
    "Get some experience with `DataFrame`s by creating your own `DataFrame`, similar to the one defined above. (Avoid copying and pasting the code from the text.)"
   ]
  },
  {
   "cell_type": "code",
   "execution_count": 40,
   "id": "0f263620-f86c-4638-8df3-62c700865099",
   "metadata": {},
   "outputs": [
    {
     "data": {
      "text/html": [
       "<div>\n",
       "<style scoped>\n",
       "    .dataframe tbody tr th:only-of-type {\n",
       "        vertical-align: middle;\n",
       "    }\n",
       "\n",
       "    .dataframe tbody tr th {\n",
       "        vertical-align: top;\n",
       "    }\n",
       "\n",
       "    .dataframe thead th {\n",
       "        text-align: right;\n",
       "    }\n",
       "</style>\n",
       "<table border=\"1\" class=\"dataframe\">\n",
       "  <thead>\n",
       "    <tr style=\"text-align: right;\">\n",
       "      <th></th>\n",
       "      <th>Restauraunts</th>\n",
       "      <th>Dhyan's Rating (out of 10)</th>\n",
       "      <th>Tom's Rating (out of 10)</th>\n",
       "    </tr>\n",
       "  </thead>\n",
       "  <tbody>\n",
       "    <tr>\n",
       "      <th>0</th>\n",
       "      <td>McDonalds</td>\n",
       "      <td>7</td>\n",
       "      <td>6</td>\n",
       "    </tr>\n",
       "    <tr>\n",
       "      <th>1</th>\n",
       "      <td>Wendys</td>\n",
       "      <td>8</td>\n",
       "      <td>7</td>\n",
       "    </tr>\n",
       "    <tr>\n",
       "      <th>2</th>\n",
       "      <td>Taco Bell</td>\n",
       "      <td>2</td>\n",
       "      <td>1</td>\n",
       "    </tr>\n",
       "    <tr>\n",
       "      <th>3</th>\n",
       "      <td>KFC</td>\n",
       "      <td>0</td>\n",
       "      <td>1</td>\n",
       "    </tr>\n",
       "    <tr>\n",
       "      <th>4</th>\n",
       "      <td>Burger King</td>\n",
       "      <td>5</td>\n",
       "      <td>3</td>\n",
       "    </tr>\n",
       "  </tbody>\n",
       "</table>\n",
       "</div>"
      ],
      "text/plain": [
       "  Restauraunts  Dhyan's Rating (out of 10)  Tom's Rating (out of 10)\n",
       "0    McDonalds                           7                         6\n",
       "1       Wendys                           8                         7\n",
       "2    Taco Bell                           2                         1\n",
       "3          KFC                           0                         1\n",
       "4  Burger King                           5                         3"
      ]
     },
     "execution_count": 40,
     "metadata": {},
     "output_type": "execute_result"
    }
   ],
   "source": [
    "import pandas as pd \n",
    "\n",
    "diction = {\n",
    "    \"Restauraunts\": [\n",
    "        \"McDonalds\",\n",
    "        \"Wendys\",\n",
    "        \"Taco Bell\",\n",
    "        \"KFC\",\n",
    "        \"Burger King\"\n",
    "    ],\n",
    "    \"Dhyan's Rating (out of 10)\": [\n",
    "        7,\n",
    "        8,\n",
    "        2,\n",
    "        0,\n",
    "        5\n",
    "    ],\n",
    "    \"Tom's Rating (out of 10)\": [\n",
    "        6,\n",
    "        7,\n",
    "        1,\n",
    "        1,\n",
    "        3\n",
    "    ]\n",
    "}\n",
    "\n",
    "Dataframe = pd.DataFrame(diction)\n",
    "Dataframe"
   ]
  },
  {
   "cell_type": "markdown",
   "id": "35554d2d-4fae-42af-abfd-1e7ae8d8fc17",
   "metadata": {},
   "source": [
    "## Working with DataFrames\n",
    "\n",
    "DataFrames have many built-in methods and attributes that make them easy to work with. Here we go through the basics.\n",
    "\n",
    "### **The head/tail attributes**\n",
    "\n",
    "The built-in methods `head(i)` and `tail(i)` access the first or last `i` elements of your `DataFrame`, e.g., `df.head(2)` will access the first two elements. This is useful when dealing with large datasets."
   ]
  },
  {
   "cell_type": "code",
   "execution_count": 85,
   "id": "78e477d5-48bd-4d06-bc40-2d8b92fbf948",
   "metadata": {},
   "outputs": [
    {
     "name": "stdout",
     "output_type": "stream",
     "text": [
      "                      Name  Age           Course\n",
      "0  Braund, Mr. Owen Harris   22  Data Structures\n",
      "                     Name  Age          Course\n",
      "2  Bonnell, Ms. Elizabeth   25  OOPS with java\n"
     ]
    }
   ],
   "source": [
    "head = df.head(1)\n",
    "print(head)\n",
    "tail = df.tail(1)\n",
    "print(tail)"
   ]
  },
  {
   "cell_type": "markdown",
   "id": "84b1f4bb-eee9-4a47-b760-c00bb20369cc",
   "metadata": {},
   "source": [
    "### **Slicing a DataFrame**\n",
    "\n",
    "To access a desired slice of a `DataFrame`, we use a similar syntax that for `lists`. For example\n",
    "```py\n",
    "sub_df = df[1:3]\n",
    "```\n",
    "takes the slice containing the second and third elements of `df` and saves them in the new `DataFrame` named `sub_df`, with the same attributes as the original DataFrame `df`."
   ]
  },
  {
   "cell_type": "code",
   "execution_count": 52,
   "id": "7c8d19f4-fc83-456a-841e-f9b137fe3ad8",
   "metadata": {},
   "outputs": [],
   "source": [
    "sub_df = df[1:3]"
   ]
  },
  {
   "cell_type": "code",
   "execution_count": 88,
   "id": "18f31e4e-9ce0-48fb-9120-c051e4ae99ff",
   "metadata": {},
   "outputs": [
    {
     "data": {
      "text/html": [
       "<div>\n",
       "<style scoped>\n",
       "    .dataframe tbody tr th:only-of-type {\n",
       "        vertical-align: middle;\n",
       "    }\n",
       "\n",
       "    .dataframe tbody tr th {\n",
       "        vertical-align: top;\n",
       "    }\n",
       "\n",
       "    .dataframe thead th {\n",
       "        text-align: right;\n",
       "    }\n",
       "</style>\n",
       "<table border=\"1\" class=\"dataframe\">\n",
       "  <thead>\n",
       "    <tr style=\"text-align: right;\">\n",
       "      <th></th>\n",
       "      <th>Name</th>\n",
       "      <th>Age</th>\n",
       "      <th>Course</th>\n",
       "    </tr>\n",
       "  </thead>\n",
       "  <tbody>\n",
       "    <tr>\n",
       "      <th>1</th>\n",
       "      <td>Allen, Mr. William Henry</td>\n",
       "      <td>35</td>\n",
       "      <td>Machine Learning</td>\n",
       "    </tr>\n",
       "    <tr>\n",
       "      <th>2</th>\n",
       "      <td>Bonnell, Ms. Elizabeth</td>\n",
       "      <td>25</td>\n",
       "      <td>OOPS with java</td>\n",
       "    </tr>\n",
       "  </tbody>\n",
       "</table>\n",
       "</div>"
      ],
      "text/plain": [
       "                       Name  Age            Course\n",
       "1  Allen, Mr. William Henry   35  Machine Learning\n",
       "2    Bonnell, Ms. Elizabeth   25    OOPS with java"
      ]
     },
     "execution_count": 88,
     "metadata": {},
     "output_type": "execute_result"
    }
   ],
   "source": [
    "sub_df"
   ]
  },
  {
   "cell_type": "markdown",
   "id": "fe9a65dc-4ae9-4e5e-bc5e-b4b1fd4be824",
   "metadata": {},
   "source": [
    "### **Keys in a DataFrame**\n",
    "\n",
    "As for dictionaries, we can ask for the `keys` of a  `DataFrame` using the `keys()` method.  In our `df` example \n",
    "```py\n",
    "df.keys()\n",
    "```\n",
    "we get as output `Index(['Name', 'Age', 'Course'], dtype='object')`.\n",
    "\n",
    "One can also access the keys using the attribute `columns`. \n",
    "```py\n",
    "df.columns\n",
    "\n",
    "```\n"
   ]
  },
  {
   "cell_type": "code",
   "execution_count": 58,
   "id": "75fd7bca-2a73-4238-91db-091e27c89d2f",
   "metadata": {},
   "outputs": [
    {
     "data": {
      "text/plain": [
       "Index(['Name', 'Age', 'Course'], dtype='object')"
      ]
     },
     "execution_count": 58,
     "metadata": {},
     "output_type": "execute_result"
    }
   ],
   "source": [
    "df.keys()\n",
    "df.columns"
   ]
  },
  {
   "cell_type": "markdown",
   "id": "900b6aad-f4c7-4f78-952b-68c491395265",
   "metadata": {},
   "source": [
    "### **Accessing a column in a DataFrame**\n",
    "\n",
    "Columns in the `DataFrame` are labeled by keys, using the same syntax as for dictionaries. For instance, to access the column containing all of the names in our `df` defined above we use:\n",
    "\n",
    "`df['Name']`\n",
    "\n",
    "Note that this produces as an output a list-like `pandas.Series` object with all elements of the `'Name'` column. You can convert this to a true list using\n",
    "\n",
    "`list(df['Name'])`"
   ]
  },
  {
   "cell_type": "code",
   "execution_count": 74,
   "id": "abfd213c-94f0-4797-9f98-600034b1d157",
   "metadata": {},
   "outputs": [
    {
     "name": "stdout",
     "output_type": "stream",
     "text": [
      "0     Braund, Mr. Owen Harris\n",
      "1    Allen, Mr. William Henry\n",
      "2      Bonnell, Ms. Elizabeth\n",
      "Name: Name, dtype: object\n",
      "['Braund, Mr. Owen Harris', 'Allen, Mr. William Henry', 'Bonnell, Ms. Elizabeth']\n"
     ]
    }
   ],
   "source": [
    "name_column = df['Name']\n",
    "print(name_column)\n",
    "\n",
    "d = list(df['Name'])\n",
    "print(d)"
   ]
  },
  {
   "cell_type": "markdown",
   "id": "2b2383de-a36f-4edc-8ec4-25a2afe317e2",
   "metadata": {},
   "source": [
    "### **Accessing a row in a DataFrame**\n",
    "\n",
    "To access row `j` in our `DataFrame`, we use the attribute `iloc[j]`. For example\n",
    "```py\n",
    "Allen_info = df.iloc[1]\n",
    "```\n",
    "will save the 2nd row of `df` as `Allen_info`.  If we `print(Allen_info)`, we have the following key-value pairs\n",
    "```py\n",
    "Name      Allen, Mr. William Henry\n",
    "Age                             35\n",
    "Course            Machine Learning\n",
    "Name: 1, dtype: object\n",
    "```\n",
    "`Allen_info` behaves like a dictionary, for example, `Allen_info['Age']` will return `35`.\n"
   ]
  },
  {
   "cell_type": "code",
   "execution_count": 77,
   "id": "2d3ad038-1f39-46fc-af38-302cf81fc51e",
   "metadata": {},
   "outputs": [
    {
     "name": "stdout",
     "output_type": "stream",
     "text": [
      "Name      Allen, Mr. William Henry\n",
      "Age                             35\n",
      "Course            Machine Learning\n",
      "Name: 1, dtype: object\n"
     ]
    },
    {
     "data": {
      "text/plain": [
       "35"
      ]
     },
     "execution_count": 77,
     "metadata": {},
     "output_type": "execute_result"
    }
   ],
   "source": [
    "Allen_info = df.iloc[1]\n",
    "print(Allen_info)\n",
    "\n",
    "Allen_info['Age']"
   ]
  },
  {
   "cell_type": "markdown",
   "id": "99f6bc47-8b70-4eed-a87e-b162c8614f3d",
   "metadata": {},
   "source": [
    "### **Accessing a single element in a DataFrame**\n",
    "\n",
    "According to our previous discussion, there are two options to access a single element of a `DataFrame`. For example, suppose we want `Allen`'s age:\n",
    "- Taking the `'Age'` entry of the Allen row, as above: `df.iloc[1]['Age']`\n",
    "- Taking the 2nd entry of the 'Age' column: `df['Age'][1]`\n",
    "\n",
    "with both methods producing the output `35`."
   ]
  },
  {
   "cell_type": "code",
   "execution_count": 79,
   "id": "815446fb-35e6-454f-a941-dc8788668c93",
   "metadata": {},
   "outputs": [
    {
     "name": "stdout",
     "output_type": "stream",
     "text": [
      "35\n",
      "35\n"
     ]
    }
   ],
   "source": [
    "Allen_age = df.iloc[1]['Age']\n",
    "print(Allen_age)\n",
    "\n",
    "Allen_age2 = df['Age'][1]\n",
    "print(Allen_age2)"
   ]
  },
  {
   "cell_type": "markdown",
   "id": "1955b47d-de98-4142-9f32-3885191dfebe",
   "metadata": {},
   "source": [
    "### **Adding a new row to the DataFrame**\n",
    "\n",
    "Similar to lists, each `DataFrame` has a built-in method `append()` that can add a new row. Since the `DataFrame` has several entries, we need first to create a dictionary, which will be added to the `DataFrame`. Let us see how this work with the following example."
   ]
  },
  {
   "cell_type": "code",
   "execution_count": 107,
   "id": "3102a985-cd98-4f93-b944-5f3e15e21bb2",
   "metadata": {},
   "outputs": [
    {
     "data": {
      "text/html": [
       "<div>\n",
       "<style scoped>\n",
       "    .dataframe tbody tr th:only-of-type {\n",
       "        vertical-align: middle;\n",
       "    }\n",
       "\n",
       "    .dataframe tbody tr th {\n",
       "        vertical-align: top;\n",
       "    }\n",
       "\n",
       "    .dataframe thead th {\n",
       "        text-align: right;\n",
       "    }\n",
       "</style>\n",
       "<table border=\"1\" class=\"dataframe\">\n",
       "  <thead>\n",
       "    <tr style=\"text-align: right;\">\n",
       "      <th></th>\n",
       "      <th>Name</th>\n",
       "      <th>Age</th>\n",
       "      <th>Course</th>\n",
       "      <th>Grade</th>\n",
       "    </tr>\n",
       "  </thead>\n",
       "  <tbody>\n",
       "    <tr>\n",
       "      <th>0</th>\n",
       "      <td>Braund, Mr. Owen Harris</td>\n",
       "      <td>22</td>\n",
       "      <td>Data Structures</td>\n",
       "      <td>NaN</td>\n",
       "    </tr>\n",
       "    <tr>\n",
       "      <th>1</th>\n",
       "      <td>Allen, Mr. William Henry</td>\n",
       "      <td>35</td>\n",
       "      <td>Machine Learning</td>\n",
       "      <td>NaN</td>\n",
       "    </tr>\n",
       "    <tr>\n",
       "      <th>2</th>\n",
       "      <td>Bonnell, Ms. Elizabeth</td>\n",
       "      <td>25</td>\n",
       "      <td>OOPS with java</td>\n",
       "      <td>NaN</td>\n",
       "    </tr>\n",
       "    <tr>\n",
       "      <th>3</th>\n",
       "      <td>Nathan S.</td>\n",
       "      <td>20</td>\n",
       "      <td>Julia programing</td>\n",
       "      <td>NaN</td>\n",
       "    </tr>\n",
       "    <tr>\n",
       "      <th>4</th>\n",
       "      <td>Sara Remmen</td>\n",
       "      <td>20</td>\n",
       "      <td>Python programing</td>\n",
       "      <td>10.0</td>\n",
       "    </tr>\n",
       "  </tbody>\n",
       "</table>\n",
       "</div>"
      ],
      "text/plain": [
       "                       Name  Age             Course  Grade\n",
       "0   Braund, Mr. Owen Harris   22    Data Structures    NaN\n",
       "1  Allen, Mr. William Henry   35   Machine Learning    NaN\n",
       "2    Bonnell, Ms. Elizabeth   25     OOPS with java    NaN\n",
       "3                 Nathan S.   20   Julia programing    NaN\n",
       "4               Sara Remmen   20  Python programing   10.0"
      ]
     },
     "execution_count": 107,
     "metadata": {},
     "output_type": "execute_result"
    }
   ],
   "source": [
    "sara_info = {'Name':'Sara Remmen', 'Age': 20, 'Course':'Python programing','Grade': 10}\n",
    "\n",
    "# Adding the new dictionary\n",
    "df2 = df.append(sara_info, ignore_index=True)\n",
    "df2"
   ]
  },
  {
   "cell_type": "markdown",
   "id": "5b2bb2b2-add3-4b2c-b3f9-0ffafe2ceabb",
   "metadata": {},
   "source": [
    "There are a few things to mention:\n",
    "- We have added a new key `'Grade'` to the dictionary, which creates a new column in the DataFrame. Since previous entries do not have values for this key, they are set to `NaN` for the other rows. \n",
    "- Unlike lists, using `append()` does not modify the original DataFrame `df`. If we want to save the modified DataFrame, we need to assign `df.append()` to something, e.g., `df2`. \n",
    "\n",
    "If we want to modify `df` directly, we can use the `loc[i]` attribute, where `i` is the position we want to add the new row. Here is an example. (Note in this case, the new row must have the same number of entries as the existing DataFrame rows.)"
   ]
  },
  {
   "cell_type": "code",
   "execution_count": 100,
   "id": "873be3fa-8730-490f-98bf-32597a71b3d0",
   "metadata": {},
   "outputs": [
    {
     "data": {
      "text/html": [
       "<div>\n",
       "<style scoped>\n",
       "    .dataframe tbody tr th:only-of-type {\n",
       "        vertical-align: middle;\n",
       "    }\n",
       "\n",
       "    .dataframe tbody tr th {\n",
       "        vertical-align: top;\n",
       "    }\n",
       "\n",
       "    .dataframe thead th {\n",
       "        text-align: right;\n",
       "    }\n",
       "</style>\n",
       "<table border=\"1\" class=\"dataframe\">\n",
       "  <thead>\n",
       "    <tr style=\"text-align: right;\">\n",
       "      <th></th>\n",
       "      <th>Name</th>\n",
       "      <th>Age</th>\n",
       "      <th>Course</th>\n",
       "    </tr>\n",
       "  </thead>\n",
       "  <tbody>\n",
       "    <tr>\n",
       "      <th>0</th>\n",
       "      <td>Braund, Mr. Owen Harris</td>\n",
       "      <td>22</td>\n",
       "      <td>Data Structures</td>\n",
       "    </tr>\n",
       "    <tr>\n",
       "      <th>1</th>\n",
       "      <td>Allen, Mr. William Henry</td>\n",
       "      <td>35</td>\n",
       "      <td>Machine Learning</td>\n",
       "    </tr>\n",
       "    <tr>\n",
       "      <th>2</th>\n",
       "      <td>Bonnell, Ms. Elizabeth</td>\n",
       "      <td>25</td>\n",
       "      <td>OOPS with java</td>\n",
       "    </tr>\n",
       "    <tr>\n",
       "      <th>3</th>\n",
       "      <td>Nathan S.</td>\n",
       "      <td>20</td>\n",
       "      <td>Julia programing</td>\n",
       "    </tr>\n",
       "  </tbody>\n",
       "</table>\n",
       "</div>"
      ],
      "text/plain": [
       "                       Name  Age            Course\n",
       "0   Braund, Mr. Owen Harris   22   Data Structures\n",
       "1  Allen, Mr. William Henry   35  Machine Learning\n",
       "2    Bonnell, Ms. Elizabeth   25    OOPS with java\n",
       "3                 Nathan S.   20  Julia programing"
      ]
     },
     "execution_count": 100,
     "metadata": {},
     "output_type": "execute_result"
    }
   ],
   "source": [
    "df.loc[3] = ['Nathan S.', 20, 'Julia programing']\n",
    "df"
   ]
  },
  {
   "cell_type": "markdown",
   "id": "5af5a630-92d7-4bac-b222-61c8cc5688cf",
   "metadata": {},
   "source": [
    "### **Changing an entry in your DataFrame**\n",
    "\n",
    "You can use `loc[row,col]` to change entries in your DataFrame, labeled by row `row` and column `col`. Here is an example where we change Allen's `Grade` from `NaN` to `8`."
   ]
  },
  {
   "cell_type": "code",
   "execution_count": 109,
   "id": "f9c07b1f-85d5-40ba-bff6-0f4451facea2",
   "metadata": {},
   "outputs": [
    {
     "data": {
      "text/html": [
       "<div>\n",
       "<style scoped>\n",
       "    .dataframe tbody tr th:only-of-type {\n",
       "        vertical-align: middle;\n",
       "    }\n",
       "\n",
       "    .dataframe tbody tr th {\n",
       "        vertical-align: top;\n",
       "    }\n",
       "\n",
       "    .dataframe thead th {\n",
       "        text-align: right;\n",
       "    }\n",
       "</style>\n",
       "<table border=\"1\" class=\"dataframe\">\n",
       "  <thead>\n",
       "    <tr style=\"text-align: right;\">\n",
       "      <th></th>\n",
       "      <th>Name</th>\n",
       "      <th>Age</th>\n",
       "      <th>Course</th>\n",
       "      <th>Grade</th>\n",
       "    </tr>\n",
       "  </thead>\n",
       "  <tbody>\n",
       "    <tr>\n",
       "      <th>0</th>\n",
       "      <td>Braund, Mr. Owen Harris</td>\n",
       "      <td>22</td>\n",
       "      <td>Data Structures</td>\n",
       "      <td>7.0</td>\n",
       "    </tr>\n",
       "    <tr>\n",
       "      <th>1</th>\n",
       "      <td>Allen, Mr. William Henry</td>\n",
       "      <td>35</td>\n",
       "      <td>Machine Learning</td>\n",
       "      <td>10.0</td>\n",
       "    </tr>\n",
       "    <tr>\n",
       "      <th>2</th>\n",
       "      <td>Bonnell, Ms. Elizabeth</td>\n",
       "      <td>25</td>\n",
       "      <td>OOPS with java</td>\n",
       "      <td>8.0</td>\n",
       "    </tr>\n",
       "    <tr>\n",
       "      <th>3</th>\n",
       "      <td>Nathan S.</td>\n",
       "      <td>20</td>\n",
       "      <td>Julia programing</td>\n",
       "      <td>9.0</td>\n",
       "    </tr>\n",
       "    <tr>\n",
       "      <th>4</th>\n",
       "      <td>Sara Remmen</td>\n",
       "      <td>20</td>\n",
       "      <td>Python programing</td>\n",
       "      <td>10.0</td>\n",
       "    </tr>\n",
       "  </tbody>\n",
       "</table>\n",
       "</div>"
      ],
      "text/plain": [
       "                       Name  Age             Course  Grade\n",
       "0   Braund, Mr. Owen Harris   22    Data Structures    7.0\n",
       "1  Allen, Mr. William Henry   35   Machine Learning   10.0\n",
       "2    Bonnell, Ms. Elizabeth   25     OOPS with java    8.0\n",
       "3                 Nathan S.   20   Julia programing    9.0\n",
       "4               Sara Remmen   20  Python programing   10.0"
      ]
     },
     "execution_count": 109,
     "metadata": {},
     "output_type": "execute_result"
    }
   ],
   "source": [
    "df2.loc[2,'Grade'] = 8 \n",
    "df2.loc[3,'Grade'] = 9\n",
    "df2.loc[1,'Grade'] = 10\n",
    "df2.loc[0,'Grade'] = 7\n",
    "df2"
   ]
  },
  {
   "cell_type": "markdown",
   "id": "ccd54138-a66f-4f03-afb7-35f76d549b09",
   "metadata": {},
   "source": [
    "### **Removing a whole row in a DataFrame**\n",
    "\n",
    "To delete a row, we use the built-in method `drop`. For instance, let us remove the entry for Sara's info from `df2`, which is labeled as row `3`. The syntax is \n",
    "```\n",
    "df3 = df2.drop(labels=3)\n",
    "```\n",
    "Note that by default `drop()` does not modify the original DataFrame, so we have assigned it to a new DataFrame `df3`. If we want to modify the original DataFrame, we set the keyword `inplace=True`, as follows:\n",
    "```py\n",
    "df2.drop(labels=3,inplace=True)\n",
    "```\n",
    "However, be careful when using this option since once rows are removed, we cannot recover them."
   ]
  },
  {
   "cell_type": "code",
   "execution_count": 112,
   "id": "901ba9d8-12b2-4120-93c3-2779d5b8c8d5",
   "metadata": {},
   "outputs": [
    {
     "data": {
      "text/html": [
       "<div>\n",
       "<style scoped>\n",
       "    .dataframe tbody tr th:only-of-type {\n",
       "        vertical-align: middle;\n",
       "    }\n",
       "\n",
       "    .dataframe tbody tr th {\n",
       "        vertical-align: top;\n",
       "    }\n",
       "\n",
       "    .dataframe thead th {\n",
       "        text-align: right;\n",
       "    }\n",
       "</style>\n",
       "<table border=\"1\" class=\"dataframe\">\n",
       "  <thead>\n",
       "    <tr style=\"text-align: right;\">\n",
       "      <th></th>\n",
       "      <th>Name</th>\n",
       "      <th>Age</th>\n",
       "      <th>Course</th>\n",
       "      <th>Grade</th>\n",
       "    </tr>\n",
       "  </thead>\n",
       "  <tbody>\n",
       "    <tr>\n",
       "      <th>0</th>\n",
       "      <td>Braund, Mr. Owen Harris</td>\n",
       "      <td>22</td>\n",
       "      <td>Data Structures</td>\n",
       "      <td>7.0</td>\n",
       "    </tr>\n",
       "    <tr>\n",
       "      <th>1</th>\n",
       "      <td>Allen, Mr. William Henry</td>\n",
       "      <td>35</td>\n",
       "      <td>Machine Learning</td>\n",
       "      <td>10.0</td>\n",
       "    </tr>\n",
       "    <tr>\n",
       "      <th>2</th>\n",
       "      <td>Bonnell, Ms. Elizabeth</td>\n",
       "      <td>25</td>\n",
       "      <td>OOPS with java</td>\n",
       "      <td>8.0</td>\n",
       "    </tr>\n",
       "    <tr>\n",
       "      <th>4</th>\n",
       "      <td>Sara Remmen</td>\n",
       "      <td>20</td>\n",
       "      <td>Python programing</td>\n",
       "      <td>10.0</td>\n",
       "    </tr>\n",
       "  </tbody>\n",
       "</table>\n",
       "</div>"
      ],
      "text/plain": [
       "                       Name  Age             Course  Grade\n",
       "0   Braund, Mr. Owen Harris   22    Data Structures    7.0\n",
       "1  Allen, Mr. William Henry   35   Machine Learning   10.0\n",
       "2    Bonnell, Ms. Elizabeth   25     OOPS with java    8.0\n",
       "4               Sara Remmen   20  Python programing   10.0"
      ]
     },
     "execution_count": 112,
     "metadata": {},
     "output_type": "execute_result"
    }
   ],
   "source": [
    "df2.drop(labels=3, inplace = True)\n",
    "df2"
   ]
  },
  {
   "cell_type": "markdown",
   "id": "318bf22d-f17f-4125-aeae-4539d3f458ae",
   "metadata": {},
   "source": [
    "### **Adding a new column to the DataFrame**\n",
    "\n",
    "To add a complete column, we use a syntax similar to dictionaries. We have to specify all the elements of the column in a list, whose length has to match the length of the `DataFrame`. In our previous examples we would have made.\n",
    "\n",
    "`df2['Major'] =  ['Physics and Astronomy', 'Computer Science', 'Physics and Astronomy', 'Maths']`"
   ]
  },
  {
   "cell_type": "code",
   "execution_count": 113,
   "id": "1a5ce98c-acd9-4367-80da-616779bd1e22",
   "metadata": {},
   "outputs": [
    {
     "data": {
      "text/html": [
       "<div>\n",
       "<style scoped>\n",
       "    .dataframe tbody tr th:only-of-type {\n",
       "        vertical-align: middle;\n",
       "    }\n",
       "\n",
       "    .dataframe tbody tr th {\n",
       "        vertical-align: top;\n",
       "    }\n",
       "\n",
       "    .dataframe thead th {\n",
       "        text-align: right;\n",
       "    }\n",
       "</style>\n",
       "<table border=\"1\" class=\"dataframe\">\n",
       "  <thead>\n",
       "    <tr style=\"text-align: right;\">\n",
       "      <th></th>\n",
       "      <th>Name</th>\n",
       "      <th>Age</th>\n",
       "      <th>Course</th>\n",
       "      <th>Grade</th>\n",
       "      <th>Major</th>\n",
       "    </tr>\n",
       "  </thead>\n",
       "  <tbody>\n",
       "    <tr>\n",
       "      <th>0</th>\n",
       "      <td>Braund, Mr. Owen Harris</td>\n",
       "      <td>22</td>\n",
       "      <td>Data Structures</td>\n",
       "      <td>7.0</td>\n",
       "      <td>Physics and Astronomy</td>\n",
       "    </tr>\n",
       "    <tr>\n",
       "      <th>1</th>\n",
       "      <td>Allen, Mr. William Henry</td>\n",
       "      <td>35</td>\n",
       "      <td>Machine Learning</td>\n",
       "      <td>10.0</td>\n",
       "      <td>Computer Science</td>\n",
       "    </tr>\n",
       "    <tr>\n",
       "      <th>2</th>\n",
       "      <td>Bonnell, Ms. Elizabeth</td>\n",
       "      <td>25</td>\n",
       "      <td>OOPS with java</td>\n",
       "      <td>8.0</td>\n",
       "      <td>Physics and Astronomy</td>\n",
       "    </tr>\n",
       "    <tr>\n",
       "      <th>4</th>\n",
       "      <td>Sara Remmen</td>\n",
       "      <td>20</td>\n",
       "      <td>Python programing</td>\n",
       "      <td>10.0</td>\n",
       "      <td>Maths</td>\n",
       "    </tr>\n",
       "  </tbody>\n",
       "</table>\n",
       "</div>"
      ],
      "text/plain": [
       "                       Name  Age             Course  Grade  \\\n",
       "0   Braund, Mr. Owen Harris   22    Data Structures    7.0   \n",
       "1  Allen, Mr. William Henry   35   Machine Learning   10.0   \n",
       "2    Bonnell, Ms. Elizabeth   25     OOPS with java    8.0   \n",
       "4               Sara Remmen   20  Python programing   10.0   \n",
       "\n",
       "                   Major  \n",
       "0  Physics and Astronomy  \n",
       "1       Computer Science  \n",
       "2  Physics and Astronomy  \n",
       "4                  Maths  "
      ]
     },
     "execution_count": 113,
     "metadata": {},
     "output_type": "execute_result"
    }
   ],
   "source": [
    "df2['Major'] = ['Physics and Astronomy', 'Computer Science', 'Physics and Astronomy', 'Maths']\n",
    "df2"
   ]
  },
  {
   "cell_type": "code",
   "execution_count": 116,
   "id": "4542f862-c09f-4f75-99bc-5db9bd743f1e",
   "metadata": {},
   "outputs": [
    {
     "data": {
      "text/html": [
       "<div>\n",
       "<style scoped>\n",
       "    .dataframe tbody tr th:only-of-type {\n",
       "        vertical-align: middle;\n",
       "    }\n",
       "\n",
       "    .dataframe tbody tr th {\n",
       "        vertical-align: top;\n",
       "    }\n",
       "\n",
       "    .dataframe thead th {\n",
       "        text-align: right;\n",
       "    }\n",
       "</style>\n",
       "<table border=\"1\" class=\"dataframe\">\n",
       "  <thead>\n",
       "    <tr style=\"text-align: right;\">\n",
       "      <th></th>\n",
       "      <th>Name</th>\n",
       "      <th>Age</th>\n",
       "      <th>Course</th>\n",
       "      <th>Grade</th>\n",
       "      <th>Major</th>\n",
       "    </tr>\n",
       "  </thead>\n",
       "  <tbody>\n",
       "    <tr>\n",
       "      <th>0</th>\n",
       "      <td>Braund, Mr. Owen Harris</td>\n",
       "      <td>22</td>\n",
       "      <td>Data Structures</td>\n",
       "      <td>7.0</td>\n",
       "      <td>Physics and Astronomy</td>\n",
       "    </tr>\n",
       "    <tr>\n",
       "      <th>1</th>\n",
       "      <td>Allen, Mr. William Henry</td>\n",
       "      <td>35</td>\n",
       "      <td>Machine Learning</td>\n",
       "      <td>10.0</td>\n",
       "      <td>Computer Science</td>\n",
       "    </tr>\n",
       "    <tr>\n",
       "      <th>2</th>\n",
       "      <td>Bonnell, Ms. Elizabeth</td>\n",
       "      <td>25</td>\n",
       "      <td>OOPS with java</td>\n",
       "      <td>8.0</td>\n",
       "      <td>Physics and Astronomy</td>\n",
       "    </tr>\n",
       "    <tr>\n",
       "      <th>3</th>\n",
       "      <td>Sara Remmen</td>\n",
       "      <td>20</td>\n",
       "      <td>Python programing</td>\n",
       "      <td>10.0</td>\n",
       "      <td>Maths</td>\n",
       "    </tr>\n",
       "    <tr>\n",
       "      <th>4</th>\n",
       "      <td>Nathan S.</td>\n",
       "      <td>20</td>\n",
       "      <td>Julia programing</td>\n",
       "      <td>9.0</td>\n",
       "      <td>Mathemematical Physics</td>\n",
       "    </tr>\n",
       "  </tbody>\n",
       "</table>\n",
       "</div>"
      ],
      "text/plain": [
       "                       Name  Age             Course  Grade  \\\n",
       "0   Braund, Mr. Owen Harris   22    Data Structures    7.0   \n",
       "1  Allen, Mr. William Henry   35   Machine Learning   10.0   \n",
       "2    Bonnell, Ms. Elizabeth   25     OOPS with java    8.0   \n",
       "3               Sara Remmen   20  Python programing   10.0   \n",
       "4                 Nathan S.   20   Julia programing    9.0   \n",
       "\n",
       "                    Major  \n",
       "0   Physics and Astronomy  \n",
       "1        Computer Science  \n",
       "2   Physics and Astronomy  \n",
       "3                   Maths  \n",
       "4  Mathemematical Physics  "
      ]
     },
     "execution_count": 116,
     "metadata": {},
     "output_type": "execute_result"
    }
   ],
   "source": [
    "nathan_info = {'Name':'Nathan S.', 'Age': 20, 'Course':'Julia programing','Grade': 9, 'Major': 'Mathemematical Physics'}\n",
    "df4 = df2.append(nathan_info, ignore_index=True)\n",
    "df4"
   ]
  },
  {
   "cell_type": "markdown",
   "id": "98b5157d-a95f-4411-8dbc-d26dcebbf7f6",
   "metadata": {},
   "source": [
    "### Merging two (or more) DataFrames\n",
    "One of the main advantages of **pandas** is that it offers high performance merging and joining of data sets with the same number of columns. Let's see it in an specific example. (Note that the `ignore_index=True` keyword is needed to ignore previous row labels and relabel the indices of the rows in the merged `DataFrame`, whereas `sort=True` keyword will display the `DataFrame` in an ordered form depending on the order of the two entries)"
   ]
  },
  {
   "cell_type": "code",
   "execution_count": 118,
   "id": "f158ef49-1fd8-4bc5-a74a-298f2fa25b8f",
   "metadata": {},
   "outputs": [
    {
     "data": {
      "text/html": [
       "<div>\n",
       "<style scoped>\n",
       "    .dataframe tbody tr th:only-of-type {\n",
       "        vertical-align: middle;\n",
       "    }\n",
       "\n",
       "    .dataframe tbody tr th {\n",
       "        vertical-align: top;\n",
       "    }\n",
       "\n",
       "    .dataframe thead th {\n",
       "        text-align: right;\n",
       "    }\n",
       "</style>\n",
       "<table border=\"1\" class=\"dataframe\">\n",
       "  <thead>\n",
       "    <tr style=\"text-align: right;\">\n",
       "      <th></th>\n",
       "      <th>Age</th>\n",
       "      <th>Course</th>\n",
       "      <th>Grade</th>\n",
       "      <th>Major</th>\n",
       "      <th>Name</th>\n",
       "    </tr>\n",
       "  </thead>\n",
       "  <tbody>\n",
       "    <tr>\n",
       "      <th>0</th>\n",
       "      <td>22</td>\n",
       "      <td>Data Structures</td>\n",
       "      <td>7.0</td>\n",
       "      <td>Physics and Astronomy</td>\n",
       "      <td>Braund, Mr. Owen Harris</td>\n",
       "    </tr>\n",
       "    <tr>\n",
       "      <th>1</th>\n",
       "      <td>35</td>\n",
       "      <td>Machine Learning</td>\n",
       "      <td>10.0</td>\n",
       "      <td>Computer Science</td>\n",
       "      <td>Allen, Mr. William Henry</td>\n",
       "    </tr>\n",
       "    <tr>\n",
       "      <th>2</th>\n",
       "      <td>25</td>\n",
       "      <td>OOPS with java</td>\n",
       "      <td>8.0</td>\n",
       "      <td>Physics and Astronomy</td>\n",
       "      <td>Bonnell, Ms. Elizabeth</td>\n",
       "    </tr>\n",
       "    <tr>\n",
       "      <th>3</th>\n",
       "      <td>20</td>\n",
       "      <td>Python programing</td>\n",
       "      <td>10.0</td>\n",
       "      <td>Maths</td>\n",
       "      <td>Sara Remmen</td>\n",
       "    </tr>\n",
       "    <tr>\n",
       "      <th>4</th>\n",
       "      <td>22</td>\n",
       "      <td>Data Structures</td>\n",
       "      <td>NaN</td>\n",
       "      <td>NaN</td>\n",
       "      <td>Braund, Mr. Owen Harris</td>\n",
       "    </tr>\n",
       "    <tr>\n",
       "      <th>5</th>\n",
       "      <td>35</td>\n",
       "      <td>Machine Learning</td>\n",
       "      <td>NaN</td>\n",
       "      <td>NaN</td>\n",
       "      <td>Allen, Mr. William Henry</td>\n",
       "    </tr>\n",
       "    <tr>\n",
       "      <th>6</th>\n",
       "      <td>25</td>\n",
       "      <td>OOPS with java</td>\n",
       "      <td>NaN</td>\n",
       "      <td>NaN</td>\n",
       "      <td>Bonnell, Ms. Elizabeth</td>\n",
       "    </tr>\n",
       "    <tr>\n",
       "      <th>7</th>\n",
       "      <td>20</td>\n",
       "      <td>Julia programing</td>\n",
       "      <td>NaN</td>\n",
       "      <td>NaN</td>\n",
       "      <td>Nathan S.</td>\n",
       "    </tr>\n",
       "  </tbody>\n",
       "</table>\n",
       "</div>"
      ],
      "text/plain": [
       "   Age             Course  Grade                  Major  \\\n",
       "0   22    Data Structures    7.0  Physics and Astronomy   \n",
       "1   35   Machine Learning   10.0       Computer Science   \n",
       "2   25     OOPS with java    8.0  Physics and Astronomy   \n",
       "3   20  Python programing   10.0                  Maths   \n",
       "4   22    Data Structures    NaN                    NaN   \n",
       "5   35   Machine Learning    NaN                    NaN   \n",
       "6   25     OOPS with java    NaN                    NaN   \n",
       "7   20   Julia programing    NaN                    NaN   \n",
       "\n",
       "                       Name  \n",
       "0   Braund, Mr. Owen Harris  \n",
       "1  Allen, Mr. William Henry  \n",
       "2    Bonnell, Ms. Elizabeth  \n",
       "3               Sara Remmen  \n",
       "4   Braund, Mr. Owen Harris  \n",
       "5  Allen, Mr. William Henry  \n",
       "6    Bonnell, Ms. Elizabeth  \n",
       "7                 Nathan S.  "
      ]
     },
     "execution_count": 118,
     "metadata": {},
     "output_type": "execute_result"
    }
   ],
   "source": [
    "merged_df = pd.concat([df2,df],ignore_index=True,sort=True)\n",
    "merged_df"
   ]
  },
  {
   "cell_type": "markdown",
   "id": "945b722a-74b5-43f6-81c2-a09d8be84754",
   "metadata": {},
   "source": [
    "## **Loading and saving DataFrames**\n",
    "\n",
    "A `csv` file, which stands for Comma Separated Values, is a useful format for storing small-to-medium-sized data sets in plain text format. First, we consider loading a file and saving it to a DataFrame. The syntax for Mac and Linux is\n",
    "```py\n",
    "df = pd.read_csv(\"directory1/directory2/file_name.csv\")\n",
    "```\n",
    "and for Windows the syntax is\n",
    "```py\n",
    "df = pd.read_csv(\"directory1\\\\directory2\\\\file_name.csv\")\n",
    "```\n",
    "That is, the separator between directory names is `/` for Mac and Linux, and `\\\\` for Windows. \n",
    "\n",
    "Similarly, the syntax for saving a DataFrame is:\n",
    "```py\n",
    "df.to_csv('directory1/directory2/file_name.csv',index=False)\n",
    "\n",
    "```\n",
    "whereas for Windows the syntax is\n",
    "```py\n",
    "df.to_csv('directory1\\\\directory2\\\\file_name.csv',index=False)\n",
    "\n",
    "```\n",
    "If the entire path of directories is not specified, the file will be loaded or saved in the same folder of our jupyter notebook. The keyword `index=False` is useful, otherwise the row index is also saved in the `csv` file too.\n",
    "\n",
    "## Plotting data from DataFrames\n",
    "\n",
    "DataFrames have a built-in method `plot()` for quickly plotting the data they contain data. For more on plotting see the [Chart Visualization](https://pandas.pydata.org/pandas-docs/stable/user_guide/visualization.html).\n",
    "\n",
    "Here is an example for loading, plotting, and saving some data"
   ]
  },
  {
   "cell_type": "code",
   "execution_count": 124,
   "id": "f7ee9916-bd86-4bf7-8469-79da8b39d7bd",
   "metadata": {},
   "outputs": [
    {
     "data": {
      "text/html": [
       "<div>\n",
       "<style scoped>\n",
       "    .dataframe tbody tr th:only-of-type {\n",
       "        vertical-align: middle;\n",
       "    }\n",
       "\n",
       "    .dataframe tbody tr th {\n",
       "        vertical-align: top;\n",
       "    }\n",
       "\n",
       "    .dataframe thead th {\n",
       "        text-align: right;\n",
       "    }\n",
       "</style>\n",
       "<table border=\"1\" class=\"dataframe\">\n",
       "  <thead>\n",
       "    <tr style=\"text-align: right;\">\n",
       "      <th></th>\n",
       "      <th>x</th>\n",
       "      <th>y</th>\n",
       "      <th>z</th>\n",
       "      <th>w</th>\n",
       "    </tr>\n",
       "  </thead>\n",
       "  <tbody>\n",
       "    <tr>\n",
       "      <th>0</th>\n",
       "      <td>0.870048</td>\n",
       "      <td>1.352916</td>\n",
       "      <td>1.048125</td>\n",
       "      <td>1.177102</td>\n",
       "    </tr>\n",
       "    <tr>\n",
       "      <th>1</th>\n",
       "      <td>1.345746</td>\n",
       "      <td>1.489461</td>\n",
       "      <td>1.195315</td>\n",
       "      <td>2.004437</td>\n",
       "    </tr>\n",
       "    <tr>\n",
       "      <th>2</th>\n",
       "      <td>1.180087</td>\n",
       "      <td>1.857449</td>\n",
       "      <td>1.096030</td>\n",
       "      <td>2.191952</td>\n",
       "    </tr>\n",
       "    <tr>\n",
       "      <th>3</th>\n",
       "      <td>2.501399</td>\n",
       "      <td>1.863236</td>\n",
       "      <td>2.123713</td>\n",
       "      <td>4.660698</td>\n",
       "    </tr>\n",
       "    <tr>\n",
       "      <th>4</th>\n",
       "      <td>2.738561</td>\n",
       "      <td>2.087918</td>\n",
       "      <td>1.775200</td>\n",
       "      <td>5.717892</td>\n",
       "    </tr>\n",
       "  </tbody>\n",
       "</table>\n",
       "</div>"
      ],
      "text/plain": [
       "          x         y         z         w\n",
       "0  0.870048  1.352916  1.048125  1.177102\n",
       "1  1.345746  1.489461  1.195315  2.004437\n",
       "2  1.180087  1.857449  1.096030  2.191952\n",
       "3  2.501399  1.863236  2.123713  4.660698\n",
       "4  2.738561  2.087918  1.775200  5.717892"
      ]
     },
     "execution_count": 124,
     "metadata": {},
     "output_type": "execute_result"
    }
   ],
   "source": [
    "df = pd.read_csv(\"desktop\\\\saving_example.csv\")\n",
    "df.head(5)"
   ]
  },
  {
   "cell_type": "code",
   "execution_count": 131,
   "id": "d7c91e2a-e31d-409e-8fec-fe77eec72563",
   "metadata": {},
   "outputs": [
    {
     "data": {
      "image/png": "[encoded data removed]",
      "text/plain": [
       "<Figure size 432x288 with 1 Axes>"
      ]
     },
     "metadata": {
      "needs_background": "light"
     },
     "output_type": "display_data"
    },
    {
     "data": {
      "image/png": "[encoded data removed]",
      "text/plain": [
       "<Figure size 432x288 with 1 Axes>"
      ]
     },
     "metadata": {
      "needs_background": "light"
     },
     "output_type": "display_data"
    }
   ],
   "source": [
    "# Next, make a plot\n",
    "\n",
    "df.plot('x','y',kind='scatter')\n",
    "\n",
    "# Create a new column\n",
    "# Define new variable w = x*y\n",
    "\n",
    "df['w'] = df['x']*df['y']\n",
    "\n",
    "df.plot('x','w',kind='scatter')\n",
    "\n",
    "# Save the new DataFrame\n",
    "# Using the same name will overwrite the original file\n",
    "\n",
    "df.to_csv(\"saving_example.csv\",index=False)"
   ]
  },
  {
   "cell_type": "markdown",
   "id": "5fa2fd88-8c9c-4d8b-8d63-c268d36721ba",
   "metadata": {},
   "source": [
    "# Exercise 3\n",
    "### Galaxy rotation curve\n",
    "\n",
    "\n",
    "The Directory `Rotation curves`, contains  data sets for the rotation curve for several Dwarf galaxies. See [rotation curves](https://github.com/EXPLORE-for-students/python-tutorials/blob/main/Rotation%20curves/readme.pdf) for a detail description of the data files. In this exercise we will  practice our **pandas** skills on those files (They will also be used in Tutorial 6 using **classes**, and in Tutorial 7, when we discuss **interpolating function**).\n",
    "By the end of this exercise we will obtain our Dark Matter rotation curve \n",
    "$$v_{DM}(r) = \\sqrt{v_c^2(r)-v_{star}^2(r)-v_{gas}^2(r)} \\, ,$$\n",
    "as well as our DM mass distribution \n",
    "$$M_{DM}(r) = r v^2_{DM}(r)/G_N \\, .$$\n",
    " \n",
    "\n",
    "We will take distance $r$ to be in units of kiloparsecs, velocity $v$ to be in units of $km/s$, and mass $M$ in solar masses $M_\\odot$. Hence, it is useful to take Newton's gravitational constant in these units as $G_N = 4.302 \\times 10^{-6}e-6  km^2/s^2*kpc/M_{sol}$. \n",
    "\n",
    "Let us divide the exercise in several steps:\n",
    "\n",
    "1. Choose your favorite galaxy in the   `Rotation curves` directory, i.e. identify the two files `RotationCurve galaxy.csv` and `RotationCurve baryons galaxy.csv`.\n",
    "2. Create the **DataFrame** `df_circular` for the chosen  galaxy, which will load the data contained in the file `RotationCurve galaxy.csv`. It should look similar to the following example for Galaxy `'IC2574'`:\n",
    "\n",
    "![](./desktop/circ_velocity.png \"Circular velocity\")\n",
    "\n",
    "3. Add a new column to  `df_circular` that contains the DM mass. For simplicity we will assume $v_{star}=v_{gas} = 0$, and therefore $v_{DM}(r)=v_c(r)$ . We will return to this simplification in Tutorial 7.\n",
    "\n",
    "4. Make a plot of $M_{DM}(r)$ as function of $r$, using **pandas** plotting tools.\n",
    "\n",
    "5. Save the data including the new column into a new **csv** file"
   ]
  },
  {
   "cell_type": "code",
   "execution_count": 135,
   "id": "5273d61f-ca81-45b8-aac0-4de8246881eb",
   "metadata": {},
   "outputs": [
    {
     "data": {
      "text/html": [
       "<div>\n",
       "<style scoped>\n",
       "    .dataframe tbody tr th:only-of-type {\n",
       "        vertical-align: middle;\n",
       "    }\n",
       "\n",
       "    .dataframe tbody tr th {\n",
       "        vertical-align: top;\n",
       "    }\n",
       "\n",
       "    .dataframe thead th {\n",
       "        text-align: right;\n",
       "    }\n",
       "</style>\n",
       "<table border=\"1\" class=\"dataframe\">\n",
       "  <thead>\n",
       "    <tr style=\"text-align: right;\">\n",
       "      <th></th>\n",
       "      <th>radius (kpc)</th>\n",
       "      <th>circ velocity (km/s)</th>\n",
       "      <th>circ velocity error (km/s)</th>\n",
       "    </tr>\n",
       "  </thead>\n",
       "  <tbody>\n",
       "    <tr>\n",
       "      <th>0</th>\n",
       "      <td>0.232710</td>\n",
       "      <td>3.33</td>\n",
       "      <td>1.36</td>\n",
       "    </tr>\n",
       "    <tr>\n",
       "      <th>1</th>\n",
       "      <td>0.465421</td>\n",
       "      <td>8.87</td>\n",
       "      <td>4.32</td>\n",
       "    </tr>\n",
       "    <tr>\n",
       "      <th>2</th>\n",
       "      <td>0.698131</td>\n",
       "      <td>11.89</td>\n",
       "      <td>4.51</td>\n",
       "    </tr>\n",
       "    <tr>\n",
       "      <th>3</th>\n",
       "      <td>0.930841</td>\n",
       "      <td>15.76</td>\n",
       "      <td>5.35</td>\n",
       "    </tr>\n",
       "    <tr>\n",
       "      <th>4</th>\n",
       "      <td>1.163550</td>\n",
       "      <td>18.62</td>\n",
       "      <td>5.54</td>\n",
       "    </tr>\n",
       "  </tbody>\n",
       "</table>\n",
       "</div>"
      ],
      "text/plain": [
       "   radius (kpc)  circ velocity (km/s)  circ velocity error (km/s)\n",
       "0      0.232710                  3.33                        1.36\n",
       "1      0.465421                  8.87                        4.32\n",
       "2      0.698131                 11.89                        4.51\n",
       "3      0.930841                 15.76                        5.35\n",
       "4      1.163550                 18.62                        5.54"
      ]
     },
     "execution_count": 135,
     "metadata": {},
     "output_type": "execute_result"
    }
   ],
   "source": [
    "df_circular = pd.read_csv('desktop\\\\RotationCurve_IC2574.csv')\n",
    "df_circular.head(5)"
   ]
  },
  {
   "cell_type": "code",
   "execution_count": 143,
   "id": "1b1ea210-0aff-4e12-bf1a-c5f862cd739f",
   "metadata": {},
   "outputs": [
    {
     "data": {
      "image/png": "[encoded data removed]",
      "text/plain": [
       "<Figure size 432x288 with 1 Axes>"
      ]
     },
     "metadata": {
      "needs_background": "light"
     },
     "output_type": "display_data"
    }
   ],
   "source": [
    "import numpy as np \n",
    "df_circular['Mass DM'] = ((df_circular['radius (kpc)']*((df_circular['circ velocity (km/s)'])**2)))/(0.000004302*(1/np.e**6))\n",
    "\n",
    "df_circular.plot('radius (kpc)','Mass DM',kind='scatter')\n",
    "\n",
    "df.to_csv(\"RotationCurve_IC2574.csv\",index=False)"
   ]
  },
  {
   "cell_type": "code",
   "execution_count": null,
   "id": "dd6a069f-8748-4791-b535-a382d4bf7d66",
   "metadata": {},
   "outputs": [],
   "source": []
  }
 ],
 "metadata": {
  "kernelspec": {
   "display_name": "Python 3 (ipykernel)",
   "language": "python",
   "name": "python3"
  },
  "language_info": {
   "codemirror_mode": {
    "name": "ipython",
    "version": 3
   },
   "file_extension": ".py",
   "mimetype": "text/x-python",
   "name": "python",
   "nbconvert_exporter": "python",
   "pygments_lexer": "ipython3",
   "version": "3.9.7"
  }
 },
 "nbformat": 4,
 "nbformat_minor": 5
}
