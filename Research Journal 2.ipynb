{
 "cells": [
  {
   "cell_type": "markdown",
   "id": "58eb4da5",
   "metadata": {},
   "source": [
    "__Dhyan Thakkar__\n",
    "<br>\n",
    "__Jan 22, 2022__\n"
   ]
  },
  {
   "cell_type": "markdown",
   "id": "9d5251f0",
   "metadata": {},
   "source": [
    "# <center><font color=46769B>Research Journal 2</font></center>"
   ]
  },
  {
   "cell_type": "markdown",
   "id": "9660fea9",
   "metadata": {},
   "source": [
    "## <font color=red>1. Experience</font>\n",
    "- Read up on research paper and took notes \n",
    "- Discussed with partner on research presentation on slack \n",
    "- Asked mentors about research paper during weekly meeting on Tuesday\n",
    "\n",
    "### Motivation\n",
    "- In order to present to my best capability, I have spent most of the week reading and learning about the contents presented in the research paper"
   ]
  },
  {
   "cell_type": "markdown",
   "id": "b4e25fac",
   "metadata": {},
   "source": [
    "## <font color=red>2. What? (What happened?)</font>\n",
    "### <font color=black>Describe what happened during your activities for the week</font>\n",
    "## <font color=red>Notes on Research Paper</font>\n",
    "<br>\n",
    "\n",
    "- This research paper titled __CONSTRAINTS ON MACHO DARK MATTER FROM COMPACT STELLAR SYSTEMS IN ULTRA-FAINT DWARF GALAXIES__ by __Timothy D. Brandt__ discusses the constraints on MACHO dark matter using a star cluster in the ultra-faint dwarf galaxy named __Erindus II__. To start off I'd like to give some background information before getting into the contents of this research paper. \n",
    "<br>\n",
    "\n",
    "- Firstly, there are two main models of what dark matter particles might be, the first one being weakly interacting massive particles or __WIMPS__ and the second one being massive compact halo objects or __MACHOs__. The term MACHO includes mainly baryonic materials such as brown dwarf stars, neutron stars, primordial black holes, and etc. These are thought to be the most likekly possibilities of dark matter, and this research paper places constraints on the size of possible MACHOs.\n",
    "<br>\n",
    "\n",
    "- Secondly, there are two main models of how dark matter particles interact, the first model being cold dark matter or __CDM__, and the second one being self interacting dark matter or __SIDM__. This paper assumes the SIDM model, when discussing its contents. \n",
    "<br>\n",
    "\n",
    "- Now, getting into the contents of the paper:\n",
    "    - __Introduction__\n",
    "    <br>\n",
    "    So, the CDM model for dark matter assumes that all objects in space have the same halo shape regardless of it being a single star or a cluster of stars or even galaxies, the shape of all dark matter halos is the same, and specifically they are really dense in the center, because dark matter particles do not interact with each other and exchange much energy. This does not agree with observations, especially in most dwarf galaxies which is where the SIDM model comes in. \n",
    "    <br>\n",
    "    <br>\n",
    "    - __Heating of Star Cluster by MACHOs__\n",
    "    <br>\n",
    "    This model relaxes the assumption that dark matter particles do not interact with each other, makes it so that they do interact with each other and exchange energy. Timothy Brandt explains that because of these interactions between steller objects and MACHOs (both greater than 1 solar mass), systems of steller objects gain energy from the MACHOs and start to \"puff up\". The weak scatterings between MACHOs gradually are able to change the velocity of stars. According to Brandt, this can be treated as a diffusion problem, and assuming an isotropic Maxwellian velocity distribution (same velocity distrubtion of dark matter particles when measured in any direction), and a locally uniform dark matter density, the diffusion coefficient is given by $$ D[\\Delta v] = \\frac{4\\sqrt{2}\\pi G^2f_{DM} \\rho m_{a} ln \\Lambda}{\\sigma} \\frac{erf[X]}{X}$$ Where $ln \\Lambda$ is the Coulomb Logarithm, $m_a$ and $\\sigma$ are the mass and velocity dispersion respectively, $\\rho $ is the total dark matter density, and $f_{DM}$ is the fraction of dark matter in MACHO of mass $m_a$. $X \\equiv \\frac{v_*}{ \\sqrt{2} \\sigma}$ is the ratio of the stellar velocity to that of the MACHOs. Here Brandt assumed that steller objects were relativley cold compared to MACHOs (less collisions, slower). This gave $ \\frac{erf[X]}{X} \\approx 1$. For the Coulomb Logarithm Brandt simplified it to $$ ln \\Lambda \\approx ln \\frac{r_h \\sigma ^2}{G(m+m_a)}$$. $m$ and $m_a$ are the masses of the star cluster in Erindus II and the MACHOs respectively, $r_h$ is the half light radius of the star cluster which is $r_h =13$ pc, and he took $\\sigma = 10 \\frac{km}{s}$ $m_a = 10 M_\\odot$. All this gave a $ ln \\Lambda \\approx 10$. Then Brandt factored in the fraction of dark matter that isn't MACHOs and assumed it was WIMPs and calculated how much dynamical cooling the WIMPs would produce in the dwarf galaxy, and he found that the dynamical heating far outweighed the cooling, and that the dynamical cooling due to the WIMPs was negligible. \n",
    "    <br>\n",
    "    \n",
    "    As SIDM states, the particles interact with each other, Brandt takes this into account and states that heating by MACHOs wil add energy to the cluster and cause it to expand. If the cluster is in the core of dark matter halo that has a constant dark matter density $\\rho$, then the cluster's potential energy per mass is given by $$ \\frac{U}{M} = constant - \\alpha \\frac{GM_*}{r_h} + \\beta G \\rho r_h^2$$. Where $M_*$ is the cluster's stellar mass, and $\\alpha$, and $\\beta$ are proportionality constants that depend on the mass distribution of the cluster, Brandt takes these values to be $\\alpha \\approx 0.4$ and $\\beta \\approx 10$, for Erindus two the proportionality constants were $ \\alpha \\approx 0.36$ and $ \\beta \\approx 7.2$ which would make the cluster expand slightly faster. "
   ]
  },
  {
   "cell_type": "markdown",
   "id": "f45b1ce8",
   "metadata": {},
   "source": [
    "## <font color=red>3. So What? (What does it mean?)</font>\n",
    "### <font color=black>Describe your results</font>\n",
    "<br>\n",
    "\n",
    "- All of this tells us that the diffusion coefficient is a really important equation to understand in order to full grasp the concept of dynamical heating that occurs in these dwarf galaxies.\n"
   ]
  },
  {
   "cell_type": "markdown",
   "id": "34c8f4fc",
   "metadata": {},
   "source": [
    "## <font color=red>4. Now What? (What's next?) </font>\n",
    "### <font colr=black>Plan for the next week</font>\n",
    "<br>\n",
    "- The plan for this coming week is to focus on the diffusion coefficient equation, and wait for further announcements from the goup mentors "
   ]
  },
  {
   "cell_type": "markdown",
   "id": "215bebe4",
   "metadata": {},
   "source": [
    "## <font color=red>5. Bibliography</font>\n",
    "Constraints on MACHO Dark Matter from Compact Stellar Systems in Ultra - Faint Dwarf Galaxies, Brandt, arXiv : 1605.03665"
   ]
  },
  {
   "cell_type": "markdown",
   "id": "6372d4c0",
   "metadata": {},
   "source": [
    "| Category       | Points      |     Some comments        |\n",
    "| ------------- |:------------:| :------------:|\n",
    "| Formatting    |      2      |         (excellent)   |\n",
    "| Experience    |       1       |  Give the name of the paper when you first talk about it (of at least its bibliography number)          |\n",
    "| What?         |      4        | Perfect!   but it is more \"so what?\" than \"what?\" stuff          |\n",
    "| So what?      |         2     |   It would have been better to explain the background physics in the \"what?\" part and the results and interpretations of the paper in this part           |\n",
    "| Now what?     |          2    |    (good)         |\n",
    "| Bibliography  |      2        |  Explain where you found the background information            |\n",
    "| Style         |         2    |       (excellent)     |\n",
    "| Total         |       15/20    |       Good   | "
   ]
  },
  {
   "cell_type": "code",
   "execution_count": null,
   "id": "ed015525",
   "metadata": {},
   "outputs": [],
   "source": []
  }
 ],
 "metadata": {
  "kernelspec": {
   "display_name": "Python 3 (ipykernel)",
   "language": "python",
   "name": "python3"
  },
  "language_info": {
   "codemirror_mode": {
    "name": "ipython",
    "version": 3
   },
   "file_extension": ".py",
   "mimetype": "text/x-python",
   "name": "python",
   "nbconvert_exporter": "python",
   "pygments_lexer": "ipython3",
   "version": "3.9.7"
  }
 },
 "nbformat": 4,
 "nbformat_minor": 5
}
